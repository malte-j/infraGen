{
 "cells": [
  {
   "cell_type": "code",
   "execution_count": 3,
   "metadata": {},
   "outputs": [],
   "source": [
    "from openai import Client\n",
    "from dotenv import load_dotenv\n",
    "load_dotenv(dotenv_path=\"../.env\")\n",
    "client = Client()"
   ]
  },
  {
   "cell_type": "code",
   "execution_count": 4,
   "metadata": {},
   "outputs": [],
   "source": [
    "assistant = client.beta.assistants.create(\n",
    "    name=\"AWS Solutions Architect Assistant\",\n",
    "    instructions=\"You are a professional AWS solutions architect. You are asked to design a solution for the customer. Try to find out the requirements first and then design a solution for the customer.\",\n",
    "    model=\"gpt-4-1106-preview\",\n",
    "    tools=[{\n",
    "        \"type\": \"function\",\n",
    "        \"function\": {\n",
    "        \"name\": \"getBestPracticeExample\",\n",
    "        \"description\": \"Gets sample best practice example for a given search term\",\n",
    "        \"parameters\": {\n",
    "        \"type\": \"object\",\n",
    "        \"properties\": {\n",
    "            \"query\": {\"type\": \"string\"}\n",
    "        },\n",
    "        \"required\": [\"query\"]\n",
    "      }\n",
    "    }\n",
    "  }]\n",
    ")"
   ]
  },
  {
   "cell_type": "code",
   "execution_count": 30,
   "metadata": {},
   "outputs": [],
   "source": [
    "thread = client.beta.threads.create()\n",
    "\n",
    "message = client.beta.threads.messages.create(\n",
    "    thread_id=thread.id,\n",
    "    role=\"user\",\n",
    "    content=\"Please help me with best practice samples for EC2 with RDS!\"\n",
    ")"
   ]
  },
  {
   "cell_type": "code",
   "execution_count": 31,
   "metadata": {},
   "outputs": [
    {
     "data": {
      "text/plain": [
       "Run(id='run_h8IEEVkeAFPpSkk1t2a1lS6Y', assistant_id='asst_6zdQjDQHaxQNYbRFkjuQD24d', cancelled_at=None, completed_at=None, created_at=1701894504, expires_at=1701895104, failed_at=None, file_ids=[], instructions='You are a professional AWS solutions architect. You are asked to design a solution for the customer. Try to find out the requirements first and then design a solution for the customer.', last_error=None, metadata={}, model='gpt-4-1106-preview', object='thread.run', required_action=None, started_at=None, status='queued', thread_id='thread_CgrNK5Xvh6ZDRWhfqRXOxFEj', tools=[ToolAssistantToolsFunction(function=FunctionDefinition(name='getBestPracticeExample', parameters={'type': 'object', 'properties': {'query': {'type': 'string'}}, 'required': ['query']}, description='Gets sample best practice example for a given search term'), type='function')])"
      ]
     },
     "execution_count": 31,
     "metadata": {},
     "output_type": "execute_result"
    }
   ],
   "source": [
    "run = client.beta.threads.runs.create(\n",
    "  thread_id=thread.id,\n",
    "  assistant_id=assistant.id,\n",
    ")\n",
    "run"
   ]
  },
  {
   "cell_type": "code",
   "execution_count": 65,
   "metadata": {},
   "outputs": [
    {
     "data": {
      "text/plain": [
       "'completed'"
      ]
     },
     "execution_count": 65,
     "metadata": {},
     "output_type": "execute_result"
    }
   ],
   "source": [
    "run = client.beta.threads.runs.retrieve(\n",
    "  thread_id=thread.id,\n",
    "  run_id=run.id\n",
    ")\n",
    "run.status"
   ]
  },
  {
   "cell_type": "code",
   "execution_count": 66,
   "metadata": {},
   "outputs": [
    {
     "name": "stdout",
     "output_type": "stream",
     "text": [
      "Run(id='run_h8IEEVkeAFPpSkk1t2a1lS6Y', assistant_id='asst_6zdQjDQHaxQNYbRFkjuQD24d', cancelled_at=None, completed_at=1701894571, created_at=1701894504, expires_at=None, failed_at=None, file_ids=[], instructions='You are a professional AWS solutions architect. You are asked to design a solution for the customer. Try to find out the requirements first and then design a solution for the customer.', last_error=None, metadata={}, model='gpt-4-1106-preview', object='thread.run', required_action=None, started_at=1701894525, status='completed', thread_id='thread_CgrNK5Xvh6ZDRWhfqRXOxFEj', tools=[ToolAssistantToolsFunction(function=FunctionDefinition(name='getBestPracticeExample', parameters={'type': 'object', 'properties': {'query': {'type': 'string'}}, 'required': ['query']}, description='Gets sample best practice example for a given search term'), type='function')])\n"
     ]
    }
   ],
   "source": [
    "print(run)"
   ]
  },
  {
   "cell_type": "code",
   "execution_count": 1,
   "metadata": {},
   "outputs": [],
   "source": [
    "from langchain.embeddings.openai import OpenAIEmbeddings\n",
    "from langchain.vectorstores.chroma import Chroma\n",
    "db = Chroma(embedding_function=OpenAIEmbeddings(), persist_directory=\"./chroma_db\")"
   ]
  },
  {
   "cell_type": "code",
   "execution_count": 37,
   "metadata": {},
   "outputs": [
    {
     "name": "stdout",
     "output_type": "stream",
     "text": [
      "2\n"
     ]
    }
   ],
   "source": [
    "print(len(run.required_action.submit_tool_outputs.tool_calls))"
   ]
  },
  {
   "cell_type": "code",
   "execution_count": 38,
   "metadata": {},
   "outputs": [
    {
     "name": "stdout",
     "output_type": "stream",
     "text": [
      "call_qN7iJysHr2aHgHq23Lfr7F9G\n",
      "call_RXuqnhXKbf08iPeHJjJfXntb\n",
      "[{'tool_call_id': 'call_qN7iJysHr2aHgHq23Lfr7F9G', 'output': '# Configure the AWS provider\\nprovider \"aws\" {\\n  region = \"eu-west-1\"\\n}\\n\\n# Create a DB instance\\nresource \"aws_db_instance\" \"example\" {\\n  engine              = \"mysql\"\\n  allocated_storage   = 10\\n  instance_class      = \"db.t2.micro\"\\n  name                = \"example_database_prod\"\\n  username            = \"admin\"\\n  password            = \"${var.db_password}\"\\n  skip_final_snapshot = true\\n}\\n'}, {'tool_call_id': 'call_RXuqnhXKbf08iPeHJjJfXntb', 'output': '# Configure the AWS provider\\nprovider \"aws\" {\\n  region = \"eu-west-1\"\\n}\\n\\n# Create a DB instance\\nresource \"aws_db_instance\" \"example\" {\\n  engine              = \"mysql\"\\n  allocated_storage   = 10\\n  instance_class      = \"db.t2.micro\"\\n  name                = \"example_database_stage\"\\n  username            = \"admin\"\\n  password            = \"${var.db_password}\"\\n  skip_final_snapshot = true\\n}\\n'}]\n",
      "2\n"
     ]
    }
   ],
   "source": [
    "import json\n",
    "\n",
    "\n",
    "if(run.status == \"requires_action\"):\n",
    "  if(run.required_action):\n",
    "    tool_outputs = []\n",
    "    x = 0\n",
    "    # iterate over tool calls and submit the required action\n",
    "    for tool_call in run.required_action.submit_tool_outputs.tool_calls:\n",
    "      print(tool_call.id)\n",
    "      match tool_call.function.name:\n",
    "        case \"getBestPracticeExample\":\n",
    "          # parse arguments from tool_call.function.arguments, which is a string\n",
    "          query = json.loads(tool_call.function.arguments)[\"query\"]\n",
    "          x = x + 1\n",
    "\n",
    "          docs = db.similarity_search(query)\n",
    "          content = \"\"\n",
    "          if(len(docs) > 0):\n",
    "            content = docs[0].page_content\n",
    "          tool_outputs.append({\n",
    "            \"tool_call_id\": tool_call.id,\n",
    "            \"output\": content\n",
    "          })\n",
    "          \n",
    "    print(tool_outputs)\n",
    "    print(x)\n",
    "    run = client.beta.threads.runs.submit_tool_outputs(\n",
    "      thread_id=thread.id,\n",
    "      run_id=run.id,\n",
    "      tool_outputs=tool_outputs\n",
    "    )\n",
    "        \n",
    "    \n"
   ]
  },
  {
   "cell_type": "code",
   "execution_count": 70,
   "metadata": {},
   "outputs": [
    {
     "data": {
      "text/plain": [
       "SyncCursorPage[ThreadMessage](data=[ThreadMessage(id='msg_Cz1Jgnp2t8RZhA7JjLmYtQrw', assistant_id='asst_6zdQjDQHaxQNYbRFkjuQD24d', content=[MessageContentText(text=Text(annotations=[], value='Here are some best practice examples for using EC2 and RDS:\\n\\n### Best Practice Example for EC2:\\nPlease note that EC2 best practices can depend on specific use cases. However, there are no sample Terraform configurations provided for EC2 best practices. Nevertheless, I can give you a few general tips:\\n- Select the right instance size and type based on your workload.\\n- Use Amazon Machine Images (AMIs) to launch EC2 instances with preconfigured settings.\\n- Implement security groups and network access control lists (ACLs) to control traffic to instances.\\n- Enable monitoring and logging using Amazon CloudWatch for instance performance and health checks.\\n- Regularly apply patches and updates to your EC2 instances to ensure security.\\n- Leverage Auto Scaling to adjust capacity according to conditions you define to maintain performance and minimize costs.\\n\\n### Best Practice Example for RDS:\\nBelow are Terraform configurations for creating a MySQL DB instance in AWS RDS:\\n\\nFor a Production environment:\\n```hcl\\n# Configure the AWS provider\\nprovider \"aws\" {\\n  region = \"eu-west-1\"\\n}\\n\\n# Create a DB instance for production\\nresource \"aws_db_instance\" \"example_prod\" {\\n  engine              = \"mysql\"\\n  allocated_storage   = 10\\n  instance_class      = \"db.t2.micro\"\\n  name                = \"example_database_prod\"\\n  username            = \"admin\"\\n  password            = \"${var.db_password}\"\\n  skip_final_snapshot = true\\n}\\n```\\n\\nFor a Staging environment:\\n```hcl\\n# Configure the AWS provider\\nprovider \"aws\" {\\n  region = \"eu-west-1\"\\n}\\n\\n# Create a DB instance for staging\\nresource \"aws_db_instance\" \"example_stage\" {\\n  engine              = \"mysql\"\\n  allocated_storage   = 10\\n  instance_class      = \"db.t2.micro\"\\n  name                = \"example_database_stage\"\\n  username            = \"admin\"\\n  password            = \"${var.db_password}\"\\n  skip_final_snapshot = true\\n}\\n```\\n\\nWhen designing a solution that involves EC2 and RDS together, consider these best practices:\\n- Ensure your EC2 instances and RDS instances are in the same VPC or are connected via VPC peering for low-latency communication.\\n- If high availability is required, consider using RDS multi-AZ deployments.\\n- Keep security in mind by restricting access to the RDS instance to certain EC2 instances or IP ranges.\\n- Periodically back up your RDS databases and configure snapshot management.\\n- Optimize your RDS instance for performance based on the expected workload (such as read-heavy or write-heavy operations).\\n\\nRemember to adjust and configure based on the actual application requirements, security standards, and scalability needs.'), type='text')], created_at=1701894527, file_ids=[], metadata={}, object='thread.message', role='assistant', run_id='run_h8IEEVkeAFPpSkk1t2a1lS6Y', thread_id='thread_CgrNK5Xvh6ZDRWhfqRXOxFEj'), ThreadMessage(id='msg_zI87BKiCLFSKNER1rMWZEvzv', assistant_id=None, content=[MessageContentText(text=Text(annotations=[], value='Please help me with best practice samples for EC2 with RDS!'), type='text')], created_at=1701894501, file_ids=[], metadata={}, object='thread.message', role='user', run_id=None, thread_id='thread_CgrNK5Xvh6ZDRWhfqRXOxFEj')], object='list', first_id='msg_Cz1Jgnp2t8RZhA7JjLmYtQrw', last_id='msg_zI87BKiCLFSKNER1rMWZEvzv', has_more=False)"
      ]
     },
     "execution_count": 70,
     "metadata": {},
     "output_type": "execute_result"
    }
   ],
   "source": [
    "from pprint import pprint\n",
    "\n",
    "\n",
    "messages = client.beta.threads.messages.list(\n",
    "  thread_id=thread.id\n",
    ")\n",
    "messages"
   ]
  },
  {
   "cell_type": "code",
   "execution_count": 7,
   "metadata": {},
   "outputs": [],
   "source": [
    "from langchain.tools import DuckDuckGoSearchRun\n",
    "from langchain.agents.openai_assistant import OpenAIAssistantRunnable\n",
    "from langchain.agents import AgentExecutor\n"
   ]
  },
  {
   "cell_type": "code",
   "execution_count": 15,
   "metadata": {},
   "outputs": [
    {
     "ename": "RateLimitException",
     "evalue": "_get_url() https://links.duckduckgo.com/d.js",
     "output_type": "error",
     "traceback": [
      "\u001b[0;31m---------------------------------------------------------------------------\u001b[0m",
      "\u001b[0;31mRateLimitException\u001b[0m                        Traceback (most recent call last)",
      "\u001b[1;32m/Users/malte/Developer/infraGen/diagram-server/oai-assistants.ipynb Cell 9\u001b[0m line \u001b[0;36m1\n\u001b[1;32m      <a href='vscode-notebook-cell:/Users/malte/Developer/infraGen/diagram-server/oai-assistants.ipynb#X11sZmlsZQ%3D%3D?line=1'>2</a>\u001b[0m agent \u001b[39m=\u001b[39m OpenAIAssistantRunnable\u001b[39m.\u001b[39mcreate_assistant(\n\u001b[1;32m      <a href='vscode-notebook-cell:/Users/malte/Developer/infraGen/diagram-server/oai-assistants.ipynb#X11sZmlsZQ%3D%3D?line=2'>3</a>\u001b[0m     name\u001b[39m=\u001b[39m\u001b[39m\"\u001b[39m\u001b[39mlangchain assistant e2b tool\u001b[39m\u001b[39m\"\u001b[39m,\n\u001b[1;32m      <a href='vscode-notebook-cell:/Users/malte/Developer/infraGen/diagram-server/oai-assistants.ipynb#X11sZmlsZQ%3D%3D?line=3'>4</a>\u001b[0m     instructions\u001b[39m=\u001b[39m\u001b[39m\"\u001b[39m\u001b[39mYou are a personal assistant. You can search the internet.\u001b[39m\u001b[39m\"\u001b[39m,\n\u001b[0;32m   (...)\u001b[0m\n\u001b[1;32m      <a href='vscode-notebook-cell:/Users/malte/Developer/infraGen/diagram-server/oai-assistants.ipynb#X11sZmlsZQ%3D%3D?line=6'>7</a>\u001b[0m     as_agent\u001b[39m=\u001b[39m\u001b[39mTrue\u001b[39;00m,\n\u001b[1;32m      <a href='vscode-notebook-cell:/Users/malte/Developer/infraGen/diagram-server/oai-assistants.ipynb#X11sZmlsZQ%3D%3D?line=7'>8</a>\u001b[0m )\n\u001b[1;32m     <a href='vscode-notebook-cell:/Users/malte/Developer/infraGen/diagram-server/oai-assistants.ipynb#X11sZmlsZQ%3D%3D?line=9'>10</a>\u001b[0m agent_executor \u001b[39m=\u001b[39m AgentExecutor(agent\u001b[39m=\u001b[39magent, tools\u001b[39m=\u001b[39mtools)\n\u001b[0;32m---> <a href='vscode-notebook-cell:/Users/malte/Developer/infraGen/diagram-server/oai-assistants.ipynb#X11sZmlsZQ%3D%3D?line=10'>11</a>\u001b[0m agent_executor\u001b[39m.\u001b[39;49minvoke({\u001b[39m\"\u001b[39;49m\u001b[39mcontent\u001b[39;49m\u001b[39m\"\u001b[39;49m: \u001b[39m\"\u001b[39;49m\u001b[39mWhat\u001b[39;49m\u001b[39m'\u001b[39;49m\u001b[39ms 10 - 4 raised to the 2.7\u001b[39;49m\u001b[39m\"\u001b[39;49m})\n",
      "File \u001b[0;32m~/miniconda3/envs/infragen/lib/python3.11/site-packages/langchain/chains/base.py:89\u001b[0m, in \u001b[0;36mChain.invoke\u001b[0;34m(self, input, config, **kwargs)\u001b[0m\n\u001b[1;32m     82\u001b[0m \u001b[39mdef\u001b[39;00m \u001b[39minvoke\u001b[39m(\n\u001b[1;32m     83\u001b[0m     \u001b[39mself\u001b[39m,\n\u001b[1;32m     84\u001b[0m     \u001b[39minput\u001b[39m: Dict[\u001b[39mstr\u001b[39m, Any],\n\u001b[1;32m     85\u001b[0m     config: Optional[RunnableConfig] \u001b[39m=\u001b[39m \u001b[39mNone\u001b[39;00m,\n\u001b[1;32m     86\u001b[0m     \u001b[39m*\u001b[39m\u001b[39m*\u001b[39mkwargs: Any,\n\u001b[1;32m     87\u001b[0m ) \u001b[39m-\u001b[39m\u001b[39m>\u001b[39m Dict[\u001b[39mstr\u001b[39m, Any]:\n\u001b[1;32m     88\u001b[0m     config \u001b[39m=\u001b[39m config \u001b[39mor\u001b[39;00m {}\n\u001b[0;32m---> 89\u001b[0m     \u001b[39mreturn\u001b[39;00m \u001b[39mself\u001b[39;49m(\n\u001b[1;32m     90\u001b[0m         \u001b[39minput\u001b[39;49m,\n\u001b[1;32m     91\u001b[0m         callbacks\u001b[39m=\u001b[39;49mconfig\u001b[39m.\u001b[39;49mget(\u001b[39m\"\u001b[39;49m\u001b[39mcallbacks\u001b[39;49m\u001b[39m\"\u001b[39;49m),\n\u001b[1;32m     92\u001b[0m         tags\u001b[39m=\u001b[39;49mconfig\u001b[39m.\u001b[39;49mget(\u001b[39m\"\u001b[39;49m\u001b[39mtags\u001b[39;49m\u001b[39m\"\u001b[39;49m),\n\u001b[1;32m     93\u001b[0m         metadata\u001b[39m=\u001b[39;49mconfig\u001b[39m.\u001b[39;49mget(\u001b[39m\"\u001b[39;49m\u001b[39mmetadata\u001b[39;49m\u001b[39m\"\u001b[39;49m),\n\u001b[1;32m     94\u001b[0m         run_name\u001b[39m=\u001b[39;49mconfig\u001b[39m.\u001b[39;49mget(\u001b[39m\"\u001b[39;49m\u001b[39mrun_name\u001b[39;49m\u001b[39m\"\u001b[39;49m),\n\u001b[1;32m     95\u001b[0m         \u001b[39m*\u001b[39;49m\u001b[39m*\u001b[39;49mkwargs,\n\u001b[1;32m     96\u001b[0m     )\n",
      "File \u001b[0;32m~/miniconda3/envs/infragen/lib/python3.11/site-packages/langchain/chains/base.py:312\u001b[0m, in \u001b[0;36mChain.__call__\u001b[0;34m(self, inputs, return_only_outputs, callbacks, tags, metadata, run_name, include_run_info)\u001b[0m\n\u001b[1;32m    310\u001b[0m \u001b[39mexcept\u001b[39;00m \u001b[39mBaseException\u001b[39;00m \u001b[39mas\u001b[39;00m e:\n\u001b[1;32m    311\u001b[0m     run_manager\u001b[39m.\u001b[39mon_chain_error(e)\n\u001b[0;32m--> 312\u001b[0m     \u001b[39mraise\u001b[39;00m e\n\u001b[1;32m    313\u001b[0m run_manager\u001b[39m.\u001b[39mon_chain_end(outputs)\n\u001b[1;32m    314\u001b[0m final_outputs: Dict[\u001b[39mstr\u001b[39m, Any] \u001b[39m=\u001b[39m \u001b[39mself\u001b[39m\u001b[39m.\u001b[39mprep_outputs(\n\u001b[1;32m    315\u001b[0m     inputs, outputs, return_only_outputs\n\u001b[1;32m    316\u001b[0m )\n",
      "File \u001b[0;32m~/miniconda3/envs/infragen/lib/python3.11/site-packages/langchain/chains/base.py:306\u001b[0m, in \u001b[0;36mChain.__call__\u001b[0;34m(self, inputs, return_only_outputs, callbacks, tags, metadata, run_name, include_run_info)\u001b[0m\n\u001b[1;32m    299\u001b[0m run_manager \u001b[39m=\u001b[39m callback_manager\u001b[39m.\u001b[39mon_chain_start(\n\u001b[1;32m    300\u001b[0m     dumpd(\u001b[39mself\u001b[39m),\n\u001b[1;32m    301\u001b[0m     inputs,\n\u001b[1;32m    302\u001b[0m     name\u001b[39m=\u001b[39mrun_name,\n\u001b[1;32m    303\u001b[0m )\n\u001b[1;32m    304\u001b[0m \u001b[39mtry\u001b[39;00m:\n\u001b[1;32m    305\u001b[0m     outputs \u001b[39m=\u001b[39m (\n\u001b[0;32m--> 306\u001b[0m         \u001b[39mself\u001b[39;49m\u001b[39m.\u001b[39;49m_call(inputs, run_manager\u001b[39m=\u001b[39;49mrun_manager)\n\u001b[1;32m    307\u001b[0m         \u001b[39mif\u001b[39;00m new_arg_supported\n\u001b[1;32m    308\u001b[0m         \u001b[39melse\u001b[39;00m \u001b[39mself\u001b[39m\u001b[39m.\u001b[39m_call(inputs)\n\u001b[1;32m    309\u001b[0m     )\n\u001b[1;32m    310\u001b[0m \u001b[39mexcept\u001b[39;00m \u001b[39mBaseException\u001b[39;00m \u001b[39mas\u001b[39;00m e:\n\u001b[1;32m    311\u001b[0m     run_manager\u001b[39m.\u001b[39mon_chain_error(e)\n",
      "File \u001b[0;32m~/miniconda3/envs/infragen/lib/python3.11/site-packages/langchain/agents/agent.py:1312\u001b[0m, in \u001b[0;36mAgentExecutor._call\u001b[0;34m(self, inputs, run_manager)\u001b[0m\n\u001b[1;32m   1310\u001b[0m \u001b[39m# We now enter the agent loop (until it returns something).\u001b[39;00m\n\u001b[1;32m   1311\u001b[0m \u001b[39mwhile\u001b[39;00m \u001b[39mself\u001b[39m\u001b[39m.\u001b[39m_should_continue(iterations, time_elapsed):\n\u001b[0;32m-> 1312\u001b[0m     next_step_output \u001b[39m=\u001b[39m \u001b[39mself\u001b[39;49m\u001b[39m.\u001b[39;49m_take_next_step(\n\u001b[1;32m   1313\u001b[0m         name_to_tool_map,\n\u001b[1;32m   1314\u001b[0m         color_mapping,\n\u001b[1;32m   1315\u001b[0m         inputs,\n\u001b[1;32m   1316\u001b[0m         intermediate_steps,\n\u001b[1;32m   1317\u001b[0m         run_manager\u001b[39m=\u001b[39;49mrun_manager,\n\u001b[1;32m   1318\u001b[0m     )\n\u001b[1;32m   1319\u001b[0m     \u001b[39mif\u001b[39;00m \u001b[39misinstance\u001b[39m(next_step_output, AgentFinish):\n\u001b[1;32m   1320\u001b[0m         \u001b[39mreturn\u001b[39;00m \u001b[39mself\u001b[39m\u001b[39m.\u001b[39m_return(\n\u001b[1;32m   1321\u001b[0m             next_step_output, intermediate_steps, run_manager\u001b[39m=\u001b[39mrun_manager\n\u001b[1;32m   1322\u001b[0m         )\n",
      "File \u001b[0;32m~/miniconda3/envs/infragen/lib/python3.11/site-packages/langchain/agents/agent.py:1038\u001b[0m, in \u001b[0;36mAgentExecutor._take_next_step\u001b[0;34m(self, name_to_tool_map, color_mapping, inputs, intermediate_steps, run_manager)\u001b[0m\n\u001b[1;32m   1029\u001b[0m \u001b[39mdef\u001b[39;00m \u001b[39m_take_next_step\u001b[39m(\n\u001b[1;32m   1030\u001b[0m     \u001b[39mself\u001b[39m,\n\u001b[1;32m   1031\u001b[0m     name_to_tool_map: Dict[\u001b[39mstr\u001b[39m, BaseTool],\n\u001b[0;32m   (...)\u001b[0m\n\u001b[1;32m   1035\u001b[0m     run_manager: Optional[CallbackManagerForChainRun] \u001b[39m=\u001b[39m \u001b[39mNone\u001b[39;00m,\n\u001b[1;32m   1036\u001b[0m ) \u001b[39m-\u001b[39m\u001b[39m>\u001b[39m Union[AgentFinish, List[Tuple[AgentAction, \u001b[39mstr\u001b[39m]]]:\n\u001b[1;32m   1037\u001b[0m     \u001b[39mreturn\u001b[39;00m \u001b[39mself\u001b[39m\u001b[39m.\u001b[39m_consume_next_step(\n\u001b[0;32m-> 1038\u001b[0m         [\n\u001b[1;32m   1039\u001b[0m             a\n\u001b[1;32m   1040\u001b[0m             \u001b[39mfor\u001b[39;49;00m a \u001b[39min\u001b[39;49;00m \u001b[39mself\u001b[39;49m\u001b[39m.\u001b[39;49m_iter_next_step(\n\u001b[1;32m   1041\u001b[0m                 name_to_tool_map,\n\u001b[1;32m   1042\u001b[0m                 color_mapping,\n\u001b[1;32m   1043\u001b[0m                 inputs,\n\u001b[1;32m   1044\u001b[0m                 intermediate_steps,\n\u001b[1;32m   1045\u001b[0m                 run_manager,\n\u001b[1;32m   1046\u001b[0m             )\n\u001b[1;32m   1047\u001b[0m         ]\n\u001b[1;32m   1048\u001b[0m     )\n",
      "File \u001b[0;32m~/miniconda3/envs/infragen/lib/python3.11/site-packages/langchain/agents/agent.py:1038\u001b[0m, in \u001b[0;36m<listcomp>\u001b[0;34m(.0)\u001b[0m\n\u001b[1;32m   1029\u001b[0m \u001b[39mdef\u001b[39;00m \u001b[39m_take_next_step\u001b[39m(\n\u001b[1;32m   1030\u001b[0m     \u001b[39mself\u001b[39m,\n\u001b[1;32m   1031\u001b[0m     name_to_tool_map: Dict[\u001b[39mstr\u001b[39m, BaseTool],\n\u001b[0;32m   (...)\u001b[0m\n\u001b[1;32m   1035\u001b[0m     run_manager: Optional[CallbackManagerForChainRun] \u001b[39m=\u001b[39m \u001b[39mNone\u001b[39;00m,\n\u001b[1;32m   1036\u001b[0m ) \u001b[39m-\u001b[39m\u001b[39m>\u001b[39m Union[AgentFinish, List[Tuple[AgentAction, \u001b[39mstr\u001b[39m]]]:\n\u001b[1;32m   1037\u001b[0m     \u001b[39mreturn\u001b[39;00m \u001b[39mself\u001b[39m\u001b[39m.\u001b[39m_consume_next_step(\n\u001b[0;32m-> 1038\u001b[0m         [\n\u001b[1;32m   1039\u001b[0m             a\n\u001b[1;32m   1040\u001b[0m             \u001b[39mfor\u001b[39;49;00m a \u001b[39min\u001b[39;49;00m \u001b[39mself\u001b[39;49m\u001b[39m.\u001b[39;49m_iter_next_step(\n\u001b[1;32m   1041\u001b[0m                 name_to_tool_map,\n\u001b[1;32m   1042\u001b[0m                 color_mapping,\n\u001b[1;32m   1043\u001b[0m                 inputs,\n\u001b[1;32m   1044\u001b[0m                 intermediate_steps,\n\u001b[1;32m   1045\u001b[0m                 run_manager,\n\u001b[1;32m   1046\u001b[0m             )\n\u001b[1;32m   1047\u001b[0m         ]\n\u001b[1;32m   1048\u001b[0m     )\n",
      "File \u001b[0;32m~/miniconda3/envs/infragen/lib/python3.11/site-packages/langchain/agents/agent.py:1134\u001b[0m, in \u001b[0;36mAgentExecutor._iter_next_step\u001b[0;34m(self, name_to_tool_map, color_mapping, inputs, intermediate_steps, run_manager)\u001b[0m\n\u001b[1;32m   1132\u001b[0m         tool_run_kwargs[\u001b[39m\"\u001b[39m\u001b[39mllm_prefix\u001b[39m\u001b[39m\"\u001b[39m] \u001b[39m=\u001b[39m \u001b[39m\"\u001b[39m\u001b[39m\"\u001b[39m\n\u001b[1;32m   1133\u001b[0m     \u001b[39m# We then call the tool on the tool input to get an observation\u001b[39;00m\n\u001b[0;32m-> 1134\u001b[0m     observation \u001b[39m=\u001b[39m tool\u001b[39m.\u001b[39;49mrun(\n\u001b[1;32m   1135\u001b[0m         agent_action\u001b[39m.\u001b[39;49mtool_input,\n\u001b[1;32m   1136\u001b[0m         verbose\u001b[39m=\u001b[39;49m\u001b[39mself\u001b[39;49m\u001b[39m.\u001b[39;49mverbose,\n\u001b[1;32m   1137\u001b[0m         color\u001b[39m=\u001b[39;49mcolor,\n\u001b[1;32m   1138\u001b[0m         callbacks\u001b[39m=\u001b[39;49mrun_manager\u001b[39m.\u001b[39;49mget_child() \u001b[39mif\u001b[39;49;00m run_manager \u001b[39melse\u001b[39;49;00m \u001b[39mNone\u001b[39;49;00m,\n\u001b[1;32m   1139\u001b[0m         \u001b[39m*\u001b[39;49m\u001b[39m*\u001b[39;49mtool_run_kwargs,\n\u001b[1;32m   1140\u001b[0m     )\n\u001b[1;32m   1141\u001b[0m \u001b[39melse\u001b[39;00m:\n\u001b[1;32m   1142\u001b[0m     tool_run_kwargs \u001b[39m=\u001b[39m \u001b[39mself\u001b[39m\u001b[39m.\u001b[39magent\u001b[39m.\u001b[39mtool_run_logging_kwargs()\n",
      "File \u001b[0;32m~/miniconda3/envs/infragen/lib/python3.11/site-packages/langchain_core/tools.py:365\u001b[0m, in \u001b[0;36mBaseTool.run\u001b[0;34m(self, tool_input, verbose, start_color, color, callbacks, tags, metadata, run_name, **kwargs)\u001b[0m\n\u001b[1;32m    363\u001b[0m \u001b[39mexcept\u001b[39;00m (\u001b[39mException\u001b[39;00m, \u001b[39mKeyboardInterrupt\u001b[39;00m) \u001b[39mas\u001b[39;00m e:\n\u001b[1;32m    364\u001b[0m     run_manager\u001b[39m.\u001b[39mon_tool_error(e)\n\u001b[0;32m--> 365\u001b[0m     \u001b[39mraise\u001b[39;00m e\n\u001b[1;32m    366\u001b[0m \u001b[39melse\u001b[39;00m:\n\u001b[1;32m    367\u001b[0m     run_manager\u001b[39m.\u001b[39mon_tool_end(\n\u001b[1;32m    368\u001b[0m         \u001b[39mstr\u001b[39m(observation), color\u001b[39m=\u001b[39mcolor, name\u001b[39m=\u001b[39m\u001b[39mself\u001b[39m\u001b[39m.\u001b[39mname, \u001b[39m*\u001b[39m\u001b[39m*\u001b[39mkwargs\n\u001b[1;32m    369\u001b[0m     )\n",
      "File \u001b[0;32m~/miniconda3/envs/infragen/lib/python3.11/site-packages/langchain_core/tools.py:337\u001b[0m, in \u001b[0;36mBaseTool.run\u001b[0;34m(self, tool_input, verbose, start_color, color, callbacks, tags, metadata, run_name, **kwargs)\u001b[0m\n\u001b[1;32m    334\u001b[0m \u001b[39mtry\u001b[39;00m:\n\u001b[1;32m    335\u001b[0m     tool_args, tool_kwargs \u001b[39m=\u001b[39m \u001b[39mself\u001b[39m\u001b[39m.\u001b[39m_to_args_and_kwargs(parsed_input)\n\u001b[1;32m    336\u001b[0m     observation \u001b[39m=\u001b[39m (\n\u001b[0;32m--> 337\u001b[0m         \u001b[39mself\u001b[39;49m\u001b[39m.\u001b[39;49m_run(\u001b[39m*\u001b[39;49mtool_args, run_manager\u001b[39m=\u001b[39;49mrun_manager, \u001b[39m*\u001b[39;49m\u001b[39m*\u001b[39;49mtool_kwargs)\n\u001b[1;32m    338\u001b[0m         \u001b[39mif\u001b[39;00m new_arg_supported\n\u001b[1;32m    339\u001b[0m         \u001b[39melse\u001b[39;00m \u001b[39mself\u001b[39m\u001b[39m.\u001b[39m_run(\u001b[39m*\u001b[39mtool_args, \u001b[39m*\u001b[39m\u001b[39m*\u001b[39mtool_kwargs)\n\u001b[1;32m    340\u001b[0m     )\n\u001b[1;32m    341\u001b[0m \u001b[39mexcept\u001b[39;00m ToolException \u001b[39mas\u001b[39;00m e:\n\u001b[1;32m    342\u001b[0m     \u001b[39mif\u001b[39;00m \u001b[39mnot\u001b[39;00m \u001b[39mself\u001b[39m\u001b[39m.\u001b[39mhandle_tool_error:\n",
      "File \u001b[0;32m~/miniconda3/envs/infragen/lib/python3.11/site-packages/langchain/tools/ddg_search/tool.py:37\u001b[0m, in \u001b[0;36mDuckDuckGoSearchRun._run\u001b[0;34m(self, query, run_manager)\u001b[0m\n\u001b[1;32m     31\u001b[0m \u001b[39mdef\u001b[39;00m \u001b[39m_run\u001b[39m(\n\u001b[1;32m     32\u001b[0m     \u001b[39mself\u001b[39m,\n\u001b[1;32m     33\u001b[0m     query: \u001b[39mstr\u001b[39m,\n\u001b[1;32m     34\u001b[0m     run_manager: Optional[CallbackManagerForToolRun] \u001b[39m=\u001b[39m \u001b[39mNone\u001b[39;00m,\n\u001b[1;32m     35\u001b[0m ) \u001b[39m-\u001b[39m\u001b[39m>\u001b[39m \u001b[39mstr\u001b[39m:\n\u001b[1;32m     36\u001b[0m \u001b[39m    \u001b[39m\u001b[39m\"\"\"Use the tool.\"\"\"\u001b[39;00m\n\u001b[0;32m---> 37\u001b[0m     \u001b[39mreturn\u001b[39;00m \u001b[39mself\u001b[39;49m\u001b[39m.\u001b[39;49mapi_wrapper\u001b[39m.\u001b[39;49mrun(query)\n",
      "File \u001b[0;32m~/miniconda3/envs/infragen/lib/python3.11/site-packages/langchain/utilities/duckduckgo_search.py:61\u001b[0m, in \u001b[0;36mDuckDuckGoSearchAPIWrapper.run\u001b[0;34m(self, query)\u001b[0m\n\u001b[1;32m     60\u001b[0m \u001b[39mdef\u001b[39;00m \u001b[39mrun\u001b[39m(\u001b[39mself\u001b[39m, query: \u001b[39mstr\u001b[39m) \u001b[39m-\u001b[39m\u001b[39m>\u001b[39m \u001b[39mstr\u001b[39m:\n\u001b[0;32m---> 61\u001b[0m     snippets \u001b[39m=\u001b[39m \u001b[39mself\u001b[39;49m\u001b[39m.\u001b[39;49mget_snippets(query)\n\u001b[1;32m     62\u001b[0m     \u001b[39mreturn\u001b[39;00m \u001b[39m\"\u001b[39m\u001b[39m \u001b[39m\u001b[39m\"\u001b[39m\u001b[39m.\u001b[39mjoin(snippets)\n",
      "File \u001b[0;32m~/miniconda3/envs/infragen/lib/python3.11/site-packages/langchain/utilities/duckduckgo_search.py:53\u001b[0m, in \u001b[0;36mDuckDuckGoSearchAPIWrapper.get_snippets\u001b[0;34m(self, query)\u001b[0m\n\u001b[1;32m     51\u001b[0m     \u001b[39mreturn\u001b[39;00m [\u001b[39m\"\u001b[39m\u001b[39mNo good DuckDuckGo Search Result was found\u001b[39m\u001b[39m\"\u001b[39m]\n\u001b[1;32m     52\u001b[0m snippets \u001b[39m=\u001b[39m []\n\u001b[0;32m---> 53\u001b[0m \u001b[39mfor\u001b[39;49;00m i, res \u001b[39min\u001b[39;49;00m \u001b[39menumerate\u001b[39;49m(results, \u001b[39m1\u001b[39;49m):\n\u001b[1;32m     54\u001b[0m     \u001b[39mif\u001b[39;49;00m res \u001b[39mis\u001b[39;49;00m \u001b[39mnot\u001b[39;49;00m \u001b[39mNone\u001b[39;49;00m:\n\u001b[1;32m     55\u001b[0m         snippets\u001b[39m.\u001b[39;49mappend(res[\u001b[39m\"\u001b[39;49m\u001b[39mbody\u001b[39;49m\u001b[39m\"\u001b[39;49m])\n",
      "File \u001b[0;32m~/miniconda3/envs/infragen/lib/python3.11/site-packages/duckduckgo_search/duckduckgo_search.py:105\u001b[0m, in \u001b[0;36mDDGS.text\u001b[0;34m(self, keywords, region, safesearch, timelimit, backend, max_results)\u001b[0m\n\u001b[1;32m    102\u001b[0m     results \u001b[39m=\u001b[39m \u001b[39mself\u001b[39m\u001b[39m.\u001b[39m_text_lite(keywords, region, timelimit, max_results)\n\u001b[1;32m    104\u001b[0m \u001b[39mif\u001b[39;00m results:\n\u001b[0;32m--> 105\u001b[0m     \u001b[39mfor\u001b[39;49;00m i, result \u001b[39min\u001b[39;49;00m \u001b[39menumerate\u001b[39;49m(results, start\u001b[39m=\u001b[39;49m\u001b[39m1\u001b[39;49m):\n\u001b[1;32m    106\u001b[0m         \u001b[39myield\u001b[39;49;00m result\n\u001b[1;32m    107\u001b[0m         \u001b[39mif\u001b[39;49;00m max_results \u001b[39mand\u001b[39;49;00m i \u001b[39m>\u001b[39;49m\u001b[39m=\u001b[39;49m max_results:\n",
      "File \u001b[0;32m~/miniconda3/envs/infragen/lib/python3.11/site-packages/duckduckgo_search/duckduckgo_search.py:156\u001b[0m, in \u001b[0;36mDDGS._text_api\u001b[0;34m(self, keywords, region, safesearch, timelimit, max_results)\u001b[0m\n\u001b[1;32m    154\u001b[0m cache \u001b[39m=\u001b[39m \u001b[39mset\u001b[39m()\n\u001b[1;32m    155\u001b[0m \u001b[39mfor\u001b[39;00m _ \u001b[39min\u001b[39;00m \u001b[39mrange\u001b[39m(\u001b[39m11\u001b[39m):\n\u001b[0;32m--> 156\u001b[0m     resp \u001b[39m=\u001b[39m \u001b[39mself\u001b[39;49m\u001b[39m.\u001b[39;49m_get_url(\u001b[39m\"\u001b[39;49m\u001b[39mGET\u001b[39;49m\u001b[39m\"\u001b[39;49m, \u001b[39m\"\u001b[39;49m\u001b[39mhttps://links.duckduckgo.com/d.js\u001b[39;49m\u001b[39m\"\u001b[39;49m, params\u001b[39m=\u001b[39;49mpayload)\n\u001b[1;32m    157\u001b[0m     \u001b[39mif\u001b[39;00m resp \u001b[39mis\u001b[39;00m \u001b[39mNone\u001b[39;00m:\n\u001b[1;32m    158\u001b[0m         \u001b[39mreturn\u001b[39;00m\n",
      "File \u001b[0;32m~/miniconda3/envs/infragen/lib/python3.11/site-packages/duckduckgo_search/duckduckgo_search.py:48\u001b[0m, in \u001b[0;36mDDGS._get_url\u001b[0;34m(self, method, url, **kwargs)\u001b[0m\n\u001b[1;32m     46\u001b[0m     \u001b[39mraise\u001b[39;00m APIException(\u001b[39mf\u001b[39m\u001b[39m\"\u001b[39m\u001b[39m_get_url() \u001b[39m\u001b[39m{\u001b[39;00murl\u001b[39m}\u001b[39;00m\u001b[39m\"\u001b[39m)\n\u001b[1;32m     47\u001b[0m \u001b[39mif\u001b[39;00m resp\u001b[39m.\u001b[39mstatus_code \u001b[39m==\u001b[39m \u001b[39m202\u001b[39m:\n\u001b[0;32m---> 48\u001b[0m     \u001b[39mraise\u001b[39;00m RateLimitException(\u001b[39mf\u001b[39m\u001b[39m\"\u001b[39m\u001b[39m_get_url() \u001b[39m\u001b[39m{\u001b[39;00murl\u001b[39m}\u001b[39;00m\u001b[39m\"\u001b[39m)\n\u001b[1;32m     49\u001b[0m \u001b[39mif\u001b[39;00m resp\u001b[39m.\u001b[39mstatus_code \u001b[39m==\u001b[39m \u001b[39m200\u001b[39m:\n\u001b[1;32m     50\u001b[0m     \u001b[39mreturn\u001b[39;00m resp\n",
      "\u001b[0;31mRateLimitException\u001b[0m: _get_url() https://links.duckduckgo.com/d.js"
     ]
    }
   ],
   "source": [
    "tools = [DuckDuckGoSearchRun()]\n",
    "agent = OpenAIAssistantRunnable.create_assistant(\n",
    "    name=\"langchain assistant e2b tool\",\n",
    "    instructions=\"You are a personal assistant. You can search the internet.\",\n",
    "    tools=tools,\n",
    "    model=\"gpt-4-1106-preview\",\n",
    "    as_agent=True,\n",
    ")\n",
    "\n",
    "agent_executor = AgentExecutor(agent=agent, tools=tools)\n",
    "agent_executor.invoke({\"content\": \"What's 10 - 4 raised to the 2.7\"})\n",
    "\n",
    "\n",
    "\n"
   ]
  },
  {
   "cell_type": "code",
   "execution_count": 14,
   "metadata": {},
   "outputs": [
    {
     "data": {
      "text/plain": [
       "[OpenAIAssistantAction(tool='duckduckgo_search', tool_input={'query': 'weather in San Francisco today'}, log='', tool_call_id='call_Ae2l6GYnHOCwkv9O77OBtxe5', run_id='run_KOvMP2YX3ldE0jQR6Br20wIM', thread_id='thread_tqGwbIc5Mj9hq791rtyZ5iSA')]"
      ]
     },
     "execution_count": 14,
     "metadata": {},
     "output_type": "execute_result"
    }
   ],
   "source": [
    "run"
   ]
  }
 ],
 "metadata": {
  "kernelspec": {
   "display_name": "infragen",
   "language": "python",
   "name": "python3"
  },
  "language_info": {
   "codemirror_mode": {
    "name": "ipython",
    "version": 3
   },
   "file_extension": ".py",
   "mimetype": "text/x-python",
   "name": "python",
   "nbconvert_exporter": "python",
   "pygments_lexer": "ipython3",
   "version": "3.11.5"
  }
 },
 "nbformat": 4,
 "nbformat_minor": 2
}
