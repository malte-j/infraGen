{
 "cells": [
  {
   "cell_type": "code",
   "execution_count": 21,
   "metadata": {},
   "outputs": [],
   "source": [
    "import os\n",
    "import getpass\n",
    "from langchain.document_loaders import TextLoader\n",
    "from langchain.document_loaders import DirectoryLoader\n",
    "from langchain.text_splitter import CharacterTextSplitter\n",
    "from langchain.vectorstores import Chroma\n",
    "from langchain.embeddings.openai import OpenAIEmbeddings"
   ]
  },
  {
   "cell_type": "code",
   "execution_count": 20,
   "metadata": {},
   "outputs": [
    {
     "name": "stdout",
     "output_type": "stream",
     "text": [
      "The dotenv extension is already loaded. To reload it, use:\n",
      "  %reload_ext dotenv\n"
     ]
    }
   ],
   "source": [
    "%load_ext dotenv\n",
    "%dotenv -o ../.env"
   ]
  },
  {
   "cell_type": "code",
   "execution_count": 5,
   "metadata": {},
   "outputs": [
    {
     "name": "stderr",
     "output_type": "stream",
     "text": [
      "100%|██████████| 116/116 [00:00<00:00, 18462.39it/s]\n"
     ]
    },
    {
     "data": {
      "text/plain": [
       "[Document(page_content='# Output variable: DB instance address\\noutput \"address\" {\\n  value = \"${aws_db_instance.example.address}\"\\n}\\n\\n# Output variable: DB instance port\\noutput \"port\" {\\n  value = \"${aws_db_instance.example.port}\"\\n}\\n', metadata={'source': 'examples/terraform-aws-examples/code/09-module-example/prod/data-stores/mysql/outputs.tf'}),\n",
       " Document(page_content='# Configure the AWS provider\\nprovider \"aws\" {\\n  region = \"eu-west-1\"\\n}\\n\\n# Create a DB instance\\nresource \"aws_db_instance\" \"example\" {\\n  engine              = \"mysql\"\\n  allocated_storage   = 10\\n  instance_class      = \"db.t2.micro\"\\n  name                = \"example_database_prod\"\\n  username            = \"admin\"\\n  password            = \"${var.db_password}\"\\n  skip_final_snapshot = true\\n}\\n', metadata={'source': 'examples/terraform-aws-examples/code/09-module-example/prod/data-stores/mysql/main.tf'}),\n",
       " Document(page_content='# Define Terraform backend using a S3 bucket for storing the Terraform state\\nterraform {\\n  backend \"s3\" {\\n    bucket = \"terraform-state-my-bucket\"\\n    key    = \"module-example/prod/data-stores/mysql/terraform.tfstate\"\\n    region = \"eu-west-1\"\\n  }\\n}\\n', metadata={'source': 'examples/terraform-aws-examples/code/09-module-example/prod/data-stores/mysql/backend.tf'}),\n",
       " Document(page_content='# Input variable: DB password\\nvariable \"db_password\" {\\n  description = \"The password for the database\"\\n}\\n', metadata={'source': 'examples/terraform-aws-examples/code/09-module-example/prod/data-stores/mysql/vars.tf'}),\n",
       " Document(page_content='# Output variable: DNS Name of ELB\\noutput \"elb_dns_name\" {\\n  value = \"${module.webserver_cluster.elb_dns_name}\"\\n}\\n', metadata={'source': 'examples/terraform-aws-examples/code/09-module-example/prod/services/webserver-cluster/outputs.tf'}),\n",
       " Document(page_content='# Configure the AWS provider\\nprovider \"aws\" {\\n  region = \"eu-west-1\"\\n}\\n\\n# Use Module\\nmodule \"webserver_cluster\" {\\n  source = \"../../../modules/services/webserver-cluster\"\\n  \\n  cluster_name           = \"werservers-prod\"\\n  db_remote_state_bucket = \"${var.db_remote_state_bucket}\"\\n  db_remote_state_key    = \"${var.db_remote_state_key}\"\\n\\n  instance_type = \"t2.micro\"\\n  min_size      = 2\\n  max_size      = 10\\n}\\n\\n# Create an Autoscaling Schedule\\nresource \"aws_autoscaling_schedule\" \"scale_out_during_business_hours\" {\\n  scheduled_action_name = \"scale-out-during-business-hours\"\\n  min_size              = 2\\n  max_size              = 10\\n  desired_capacity      = 10\\n  recurrence            = \"0 9 * * *\"\\n  \\n  autoscaling_group_name = \"${module.webserver_cluster.asg_name}\"\\n}\\n\\n# Create an Autoscaling Schedule\\nresource \"aws_autoscaling_schedule\" \"scale_in_at_night\" {\\n  scheduled_action_name = \"scale-in-at-night\"\\n  min_size              = 2\\n  max_size              = 10\\n  desired_capacity      = 2\\n  recurrence            = \"0 17 * * *\"\\n\\n  autoscaling_group_name = \"${module.webserver_cluster.asg_name}\"\\n}\\n', metadata={'source': 'examples/terraform-aws-examples/code/09-module-example/prod/services/webserver-cluster/main.tf'}),\n",
       " Document(page_content='# Define Terraform backend using a S3 bucket for storing the Terraform state\\nterraform {\\n  backend \"s3\" {\\n    bucket = \"terraform-state-my-bucket\"\\n    key    = \"module-example/prod/services/webserver-cluster/terraform.tfstate\"\\n    region = \"eu-west-1\"\\n  }\\n}\\n', metadata={'source': 'examples/terraform-aws-examples/code/09-module-example/prod/services/webserver-cluster/backend.tf'}),\n",
       " Document(page_content='# Input variable: DB remote state bucket name\\nvariable \"db_remote_state_bucket\" {\\n  description = \"The name of the S3 bucket for the database\\'s remote state\"\\n  default     =  \"terraform-state-my-bucket\"\\n}\\n\\n# Input variable: DB remote state bucket key\\nvariable \"db_remote_state_key\" {\\n  description = \"The path for database\\'s remote state in S3\"\\n  default     = \"module-example/prod/data-stores/mysql/terraform.tfstate\"\\n}\\n', metadata={'source': 'examples/terraform-aws-examples/code/09-module-example/prod/services/webserver-cluster/vars.tf'}),\n",
       " Document(page_content='# Output variable: DB instance address\\noutput \"address\" {\\n  value = \"${aws_db_instance.example.address}\"\\n}\\n\\n# Output variable: DB instance port\\noutput \"port\" {\\n  value = \"${aws_db_instance.example.port}\"\\n}\\n', metadata={'source': 'examples/terraform-aws-examples/code/09-module-example/stage/data-stores/mysql/outputs.tf'}),\n",
       " Document(page_content='# Configure the AWS provider\\nprovider \"aws\" {\\n  region = \"eu-west-1\"\\n}\\n\\n# Create a DB instance\\nresource \"aws_db_instance\" \"example\" {\\n  engine              = \"mysql\"\\n  allocated_storage   = 10\\n  instance_class      = \"db.t2.micro\"\\n  name                = \"example_database_stage\"\\n  username            = \"admin\"\\n  password            = \"${var.db_password}\"\\n  skip_final_snapshot = true\\n}\\n', metadata={'source': 'examples/terraform-aws-examples/code/09-module-example/stage/data-stores/mysql/main.tf'})]"
      ]
     },
     "execution_count": 5,
     "metadata": {},
     "output_type": "execute_result"
    }
   ],
   "source": [
    "loader = DirectoryLoader(\"./examples\", glob=\"**/*.tf\", loader_cls=TextLoader, show_progress=True)\n",
    "raw_documents = loader.load()\n",
    "raw_documents = raw_documents[:10]\n",
    "raw_documents"
   ]
  },
  {
   "cell_type": "code",
   "execution_count": 23,
   "metadata": {},
   "outputs": [],
   "source": [
    "db = Chroma.from_documents(raw_documents, OpenAIEmbeddings(), persist_directory=\"./chroma_db\")"
   ]
  },
  {
   "cell_type": "code",
   "execution_count": 24,
   "metadata": {},
   "outputs": [
    {
     "data": {
      "text/plain": [
       "[Document(page_content='# Configure the AWS provider\\nprovider \"aws\" {\\n  region = \"eu-west-1\"\\n}\\n\\n# Create a DB instance\\nresource \"aws_db_instance\" \"example\" {\\n  engine              = \"mysql\"\\n  allocated_storage   = 10\\n  instance_class      = \"db.t2.micro\"\\n  name                = \"example_database_stage\"\\n  username            = \"admin\"\\n  password            = \"${var.db_password}\"\\n  skip_final_snapshot = true\\n}\\n', metadata={'source': 'examples/terraform-aws-examples/code/09-module-example/stage/data-stores/mysql/main.tf'}),\n",
       " Document(page_content='# Configure the AWS provider\\nprovider \"aws\" {\\n  region = \"eu-west-1\"\\n}\\n\\n# Create a DB instance\\nresource \"aws_db_instance\" \"example\" {\\n  engine              = \"mysql\"\\n  allocated_storage   = 10\\n  instance_class      = \"db.t2.micro\"\\n  name                = \"example_database_stage\"\\n  username            = \"admin\"\\n  password            = \"${var.db_password}\"\\n  skip_final_snapshot = true\\n}\\n', metadata={'source': 'examples/terraform-aws-examples/code/09-module-example/stage/data-stores/mysql/main.tf'}),\n",
       " Document(page_content='# Configure the AWS provider\\nprovider \"aws\" {\\n  region = \"eu-west-1\"\\n}\\n\\n# Create a DB instance\\nresource \"aws_db_instance\" \"example\" {\\n  engine              = \"mysql\"\\n  allocated_storage   = 10\\n  instance_class      = \"db.t2.micro\"\\n  name                = \"example_database_stage\"\\n  username            = \"admin\"\\n  password            = \"${var.db_password}\"\\n  skip_final_snapshot = true\\n}\\n', metadata={'source': 'examples/terraform-aws-examples/code/09-module-example/stage/data-stores/mysql/main.tf'}),\n",
       " Document(page_content='# Configure the AWS provider\\nprovider \"aws\" {\\n  region = \"eu-west-1\"\\n}\\n\\n# Create a DB instance\\nresource \"aws_db_instance\" \"example\" {\\n  engine              = \"mysql\"\\n  allocated_storage   = 10\\n  instance_class      = \"db.t2.micro\"\\n  name                = \"example_database_prod\"\\n  username            = \"admin\"\\n  password            = \"${var.db_password}\"\\n  skip_final_snapshot = true\\n}\\n', metadata={'source': 'examples/terraform-aws-examples/code/09-module-example/prod/data-stores/mysql/main.tf'})]"
      ]
     },
     "execution_count": 24,
     "metadata": {},
     "output_type": "execute_result"
    }
   ],
   "source": [
    "query = \"RDS\"\n",
    "docs = db.similarity_search(query)\n",
    "docs\n"
   ]
  }
 ],
 "metadata": {
  "kernelspec": {
   "display_name": "infragen",
   "language": "python",
   "name": "python3"
  },
  "language_info": {
   "codemirror_mode": {
    "name": "ipython",
    "version": 3
   },
   "file_extension": ".py",
   "mimetype": "text/x-python",
   "name": "python",
   "nbconvert_exporter": "python",
   "pygments_lexer": "ipython3",
   "version": "3.11.5"
  }
 },
 "nbformat": 4,
 "nbformat_minor": 2
}
