{
 "cells": [
  {
   "cell_type": "code",
   "execution_count": 1,
   "metadata": {},
   "outputs": [],
   "source": [
    "import os\n",
    "import getpass\n",
    "from langchain.document_loaders import TextLoader\n",
    "from langchain.document_loaders import DirectoryLoader\n",
    "from langchain.text_splitter import CharacterTextSplitter\n",
    "from langchain.vectorstores import Chroma\n",
    "from langchain.embeddings.openai import OpenAIEmbeddings"
   ]
  },
  {
   "cell_type": "code",
   "execution_count": 2,
   "metadata": {},
   "outputs": [],
   "source": [
    "%load_ext dotenv\n",
    "%dotenv -o ../.env"
   ]
  },
  {
   "cell_type": "code",
   "execution_count": 3,
   "metadata": {},
   "outputs": [
    {
     "name": "stderr",
     "output_type": "stream",
     "text": [
      "100%|██████████| 182/182 [00:00<00:00, 7063.80it/s]\n"
     ]
    },
    {
     "data": {
      "text/plain": [
       "[Document(page_content='# Amazon SNS\\n\\nresource \"aws_sns_topic\" \"user_updates\" {\\n  name            = \"user-updates-topic\"\\n  delivery_policy = <<EOF\\n{\\n  \"http\": {\\n    \"defaultHealthyRetryPolicy\": {\\n      \"minDelayTarget\": 20,\\n      \"maxDelayTarget\": 20,\\n      \"numRetries\": 3,\\n      \"numMaxDelayRetries\": 0,\\n      \"numNoDelayRetries\": 0,\\n      \"numMinDelayRetries\": 0,\\n      \"backoffFunction\": \"linear\"\\n    },\\n    \"disableSubscriptionOverrides\": false,\\n    \"defaultThrottlePolicy\": {\\n      \"maxReceivesPerSecond\": 1\\n    }\\n  }\\n}\\nEOF\\n}', metadata={'source': 'examples/sns.tf'}),\n",
       " Document(page_content='resource \"aws_ecs_service\" \"mongo\" {\\n  name            = \"mongodb\"\\n  cluster         = aws_ecs_cluster.foo.id\\n  task_definition = aws_ecs_task_definition.mongo.arn\\n  desired_count   = 3\\n  iam_role        = aws_iam_role.foo.arn\\n  depends_on      = [aws_iam_role_policy.foo]\\n\\n  ordered_placement_strategy {\\n    type  = \"binpack\"\\n    field = \"cpu\"\\n  }\\n\\n  load_balancer {\\n    target_group_arn = aws_lb_target_group.foo.arn\\n    container_name   = \"mongo\"\\n    container_port   = 8080\\n  }\\n\\n  placement_constraints {\\n    type       = \"memberOf\"\\n    expression = \"attribute:ecs.availability-zone in [us-west-2a, us-west-2b]\"\\n  }\\n}', metadata={'source': 'examples/ecs.tf'}),\n",
       " Document(page_content='# AWS Cloudfront sample\\n\\nmodule \"cdn\" {\\n  source = \"terraform-aws-modules/cloudfront/aws\"\\n\\n  aliases = [\"cdn.example.com\"]\\n\\n  comment             = \"My awesome CloudFront\"\\n  enabled             = true\\n  is_ipv6_enabled     = true\\n  price_class         = \"PriceClass_All\"\\n  retain_on_delete    = false\\n  wait_for_deployment = false\\n\\n  create_origin_access_identity = true\\n  origin_access_identities = {\\n    s3_bucket_one = \"My awesome CloudFront can access\"\\n  }\\n\\n  logging_config = {\\n    bucket = \"logs-my-cdn.s3.amazonaws.com\"\\n  }\\n\\n  origin = {\\n    something = {\\n      domain_name = \"something.example.com\"\\n      custom_origin_config = {\\n        http_port              = 80\\n        https_port             = 443\\n        origin_protocol_policy = \"match-viewer\"\\n        origin_ssl_protocols   = [\"TLSv1\", \"TLSv1.1\", \"TLSv1.2\"]\\n      }\\n    }\\n\\n    s3_one = {\\n      domain_name = \"my-s3-bycket.s3.amazonaws.com\"\\n      s3_origin_config = {\\n        origin_access_identity = \"s3_bucket_one\"\\n      }\\n    }\\n  }\\n\\n  default_cache_behavior = {\\n    target_origin_id           = \"something\"\\n    viewer_protocol_policy     = \"allow-all\"\\n\\n    allowed_methods = [\"GET\", \"HEAD\", \"OPTIONS\"]\\n    cached_methods  = [\"GET\", \"HEAD\"]\\n    compress        = true\\n    query_string    = true\\n  }\\n\\n  ordered_cache_behavior = [\\n    {\\n      path_pattern           = \"/static/*\"\\n      target_origin_id       = \"s3_one\"\\n      viewer_protocol_policy = \"redirect-to-https\"\\n\\n      allowed_methods = [\"GET\", \"HEAD\", \"OPTIONS\"]\\n      cached_methods  = [\"GET\", \"HEAD\"]\\n      compress        = true\\n      query_string    = true\\n    }\\n  ]\\n\\n  viewer_certificate = {\\n    acm_certificate_arn = \"arn:aws:acm:us-east-1:135367859851:certificate/1032b155-22da-4ae0-9f69-e206f825458b\"\\n    ssl_support_method  = \"sni-only\"\\n  }\\n}', metadata={'source': 'examples/cloudfront.tf'}),\n",
       " Document(page_content='# Amazon RDS example\\n\\nmodule \"db\" {\\n  source = \"terraform-aws-modules/rds/aws\"\\n\\n  identifier = \"demodb\"\\n\\n  engine            = \"mysql\"\\n  engine_version    = \"5.7\"\\n  instance_class    = \"db.t3a.large\"\\n  allocated_storage = 5\\n\\n  db_name  = \"demodb\"\\n  username = \"user\"\\n  port     = \"3306\"\\n\\n  iam_database_authentication_enabled = true\\n\\n  vpc_security_group_ids = [\"sg-12345678\"]\\n\\n  maintenance_window = \"Mon:00:00-Mon:03:00\"\\n  backup_window      = \"03:00-06:00\"\\n\\n  # Enhanced Monitoring - see example for details on how to create the role\\n  # by yourself, in case you don\\'t want to create it automatically\\n  monitoring_interval    = \"30\"\\n  monitoring_role_name   = \"MyRDSMonitoringRole\"\\n  create_monitoring_role = true\\n\\n  tags = {\\n    Owner       = \"user\"\\n    Environment = \"dev\"\\n  }\\n\\n  # DB subnet group\\n  create_db_subnet_group = true\\n  subnet_ids             = [\"subnet-12345678\", \"subnet-87654321\"]\\n\\n  # DB parameter group\\n  family = \"mysql5.7\"\\n\\n  # DB option group\\n  major_engine_version = \"5.7\"\\n\\n  # Database Deletion Protection\\n  deletion_protection = true\\n\\n  parameters = [\\n    {\\n      name  = \"character_set_client\"\\n      value = \"utf8mb4\"\\n    },\\n    {\\n      name  = \"character_set_server\"\\n      value = \"utf8mb4\"\\n    }\\n  ]\\n\\n  options = [\\n    {\\n      option_name = \"MARIADB_AUDIT_PLUGIN\"\\n\\n      option_settings = [\\n        {\\n          name  = \"SERVER_AUDIT_EVENTS\"\\n          value = \"CONNECT\"\\n        },\\n        {\\n          name  = \"SERVER_AUDIT_FILE_ROTATIONS\"\\n          value = \"37\"\\n        },\\n      ]\\n    },\\n  ]\\n}', metadata={'source': 'examples/rds.tf'}),\n",
       " Document(page_content='module \"aws_reverse_proxy\" {\\n  # Available inputs: https://github.com/futurice/terraform-utils/tree/master/aws_reverse_proxy#inputs\\n  # Check for updates: https://github.com/futurice/terraform-utils/compare/v11.0...master\\n  source = \"git::ssh://git@github.com/futurice/terraform-utils.git//aws_reverse_proxy?ref=v11.0\"\\n\\n  origin_url             = \"http://example.com/\"           # note that this is just a dummy value to satisfy CloudFront, it won\\'t ever be used with the override_* variables in place\\n  site_domain            = \"${var.redirect_domain}\"\\n  name_prefix            = \"${var.name_prefix}\"\\n  comment_prefix         = \"${var.comment_prefix}\"\\n  cloudfront_price_class = \"${var.cloudfront_price_class}\"\\n  viewer_https_only      = \"${var.viewer_https_only}\"\\n  lambda_logging_enabled = \"${var.lambda_logging_enabled}\"\\n  tags                   = \"${var.tags}\"\\n\\n  add_response_headers = {\\n    \"Strict-Transport-Security\" = \"${var.redirect_with_hsts ? \"max-age=31557600; preload\" : \"\"}\"\\n    \"Location\"                  = \"${var.redirect_url}\"\\n  }\\n\\n  override_response_status             = \"${var.redirect_permanently ? \"301\" : \"302\"}\"\\n  override_response_status_description = \"${var.redirect_permanently ? \"Moved Permanently\" : \"Found\"}\"\\n\\n  override_response_body = <<EOF\\n  <!doctype html>\\n  <html lang=\"en\">\\n  <head>\\n    <meta charset=\"utf-8\">\\n    <title>Redirecting</title>\\n  </head>\\n  <body>\\n    <pre>Redirecting to: <a href=\"${var.redirect_url}\">${var.redirect_url}</a></pre>\\n  </body>\\n  EOF\\n}\\n', metadata={'source': 'examples/aws/aws_domain_redirect/main.tf'}),\n",
       " Document(page_content='variable \"redirect_domain\" {\\n  description = \"Domain which will redirect to the given `redirect_url`; e.g. `\\\\\"docs.example.com\\\\\"`\"\\n}\\n\\nvariable \"redirect_url\" {\\n  description = \"The URL this domain redirect should send clients to; e.g. `\\\\\"https://readthedocs.org/projects/example\\\\\"`\"\\n}\\n\\nvariable \"name_prefix\" {\\n  description = \"Name prefix to use for objects that need to be created (only lowercase alphanumeric characters and hyphens allowed, for S3 bucket name compatibility)\"\\n  default     = \"aws-domain-redirect---\"\\n}\\n\\nvariable \"comment_prefix\" {\\n  description = \"This will be included in comments for resources that are created\"\\n  default     = \"Domain redirect: \"\\n}\\n\\nvariable \"cloudfront_price_class\" {\\n  description = \"Price class to use (`100`, `200` or `\\\\\"All\\\\\"`, see https://aws.amazon.com/cloudfront/pricing/)\"\\n  default     = 100\\n}\\n\\nvariable \"viewer_https_only\" {\\n  description = \"Set this to `false` if you need to support insecure HTTP access for clients, in addition to HTTPS\"\\n  default     = true\\n}\\n\\nvariable \"redirect_permanently\" {\\n  description = \"Which HTTP status code to use for the redirect; if `true`, uses `301 Moved Permanently`, instead of `302 Found`\"\\n  default     = false\\n}\\n\\nvariable \"redirect_with_hsts\" {\\n  description = \"Whether to send the `Strict-Transport-Security` header with the redirect (recommended for security)\"\\n  default     = true\\n}\\n\\nvariable \"lambda_logging_enabled\" {\\n  description = \"When `true`, writes information about incoming requests to the Lambda function\\'s CloudWatch group\"\\n  default     = false\\n}\\n\\nvariable \"tags\" {\\n  description = \"AWS Tags to add to all resources created (where possible); see https://aws.amazon.com/answers/account-management/aws-tagging-strategies/\"\\n  type        = \"map\"\\n  default     = {}\\n}\\n', metadata={'source': 'examples/aws/aws_domain_redirect/variables.tf'}),\n",
       " Document(page_content='# Access data about available availability zones in the current region\\ndata \"aws_availability_zones\" \"this\" {}\\n\\n# Retrieve info about the VPC this host should join\\n\\ndata \"aws_vpc\" \"this\" {\\n  default = \"${var.vpc_id == \"\" ? true : false}\"\\n  id      = \"${var.vpc_id}\"\\n}\\n\\ndata \"aws_subnet\" \"this\" {\\n  vpc_id            = \"${data.aws_vpc.this.id}\"\\n  availability_zone = \"${local.availability_zone}\"\\n}\\n', metadata={'source': 'examples/aws/aws_ec2_ebs_docker_host/data.tf'}),\n",
       " Document(page_content='output \"hostname\" {\\n  description = \"Hostname by which this service is identified in metrics, logs etc\"\\n  value       = \"${var.hostname}\"\\n}\\n\\noutput \"public_ip\" {\\n  description = \"Public IP address assigned to the host by EC2\"\\n  value       = \"${aws_instance.this.public_ip}\"\\n}\\n\\noutput \"instance_id\" {\\n  description = \"AWS ID for the EC2 instance used\"\\n  value       = \"${aws_instance.this.id}\"\\n}\\n\\noutput \"availability_zone\" {\\n  description = \"AWS Availability Zone in which the EC2 instance was created\"\\n  value       = \"${local.availability_zone}\"\\n}\\n\\noutput \"ssh_username\" {\\n  description = \"Username that can be used to access the EC2 instance over SSH\"\\n  value       = \"${var.ssh_username}\"\\n}\\n\\noutput \"ssh_private_key_path\" {\\n  description = \"Path to SSH private key that can be used to access the EC2 instance\"\\n  value       = \"${var.ssh_private_key_path}\"\\n}\\n\\noutput \"ssh_private_key\" {\\n  description = \"SSH private key that can be used to access the EC2 instance\"\\n  value       = \"${file(\"${var.ssh_private_key_path}\")}\"\\n}\\n\\noutput \"security_group_id\" {\\n  description = \"Security Group ID, for attaching additional security rules externally\"\\n  value       = \"${aws_security_group.this.id}\"\\n}\\n', metadata={'source': 'examples/aws/aws_ec2_ebs_docker_host/outputs.tf'}),\n",
       " Document(page_content='# Create the main EC2 instance\\n# https://www.terraform.io/docs/providers/aws/r/instance.html\\nresource \"aws_instance\" \"this\" {\\n  instance_type          = \"${var.instance_type}\"\\n  ami                    = \"${var.instance_ami}\"\\n  availability_zone      = \"${local.availability_zone}\"\\n  key_name               = \"${aws_key_pair.this.id}\"                            # the name of the SSH keypair to use for provisioning\\n  vpc_security_group_ids = [\"${aws_security_group.this.id}\"]\\n  subnet_id              = \"${data.aws_subnet.this.id}\"\\n  user_data              = \"${sha1(local.reprovision_trigger)}\"                 # this value isn\\'t used by the EC2 instance, but its change will trigger re-creation of the resource\\n  tags                   = \"${merge(var.tags, map(\"Name\", \"${var.hostname}\"))}\"\\n  volume_tags            = \"${merge(var.tags, map(\"Name\", \"${var.hostname}\"))}\" # give the root EBS volume a name (+ other possible tags) that makes it easier to identify as belonging to this host\\n\\n  root_block_device {\\n    volume_size = \"${var.root_volume_size}\"\\n  }\\n\\n  connection {\\n    user        = \"${var.ssh_username}\"\\n    private_key = \"${file(\"${var.ssh_private_key_path}\")}\"\\n    agent       = false                                    # don\\'t use SSH agent because we have the private key right here\\n  }\\n\\n  provisioner \"remote-exec\" {\\n    inline = [\\n      \"sudo hostnamectl set-hostname ${var.hostname}\",\\n      \"echo 127.0.0.1 ${var.hostname} | sudo tee -a /etc/hosts\", # https://askubuntu.com/a/59517\\n    ]\\n  }\\n\\n  provisioner \"remote-exec\" {\\n    script = \"${path.module}/provision-docker.sh\"\\n  }\\n\\n  provisioner \"file\" {\\n    source      = \"${path.module}/provision-swap.sh\"\\n    destination = \"/home/${var.ssh_username}/provision-swap.sh\"\\n  }\\n\\n  provisioner \"remote-exec\" {\\n    inline = [\\n      \"sh /home/${var.ssh_username}/provision-swap.sh ${var.swap_file_size} ${var.swap_swappiness}\",\\n      \"rm /home/${var.ssh_username}/provision-swap.sh\",\\n    ]\\n  }\\n}\\n\\n# Attach the separate data volume to the instance, if so configured\\n\\nresource \"aws_volume_attachment\" \"this\" {\\n  count       = \"${var.data_volume_id == \"\" ? 0 : 1}\" # only create this resource if an external EBS data volume was provided\\n  device_name = \"/dev/xvdh\"                           # note: this depends on the AMI, and can\\'t be arbitrarily changed\\n  instance_id = \"${aws_instance.this.id}\"\\n  volume_id   = \"${var.data_volume_id}\"\\n}\\n\\nresource \"null_resource\" \"provisioners\" {\\n  count      = \"${var.data_volume_id == \"\" ? 0 : 1}\" # only create this resource if an external EBS data volume was provided\\n  depends_on = [\"aws_volume_attachment.this\"]        # because we depend on the EBS volume being available\\n\\n  connection {\\n    host        = \"${aws_instance.this.public_ip}\"\\n    user        = \"${var.ssh_username}\"\\n    private_key = \"${file(\"${var.ssh_private_key_path}\")}\"\\n    agent       = false                                    # don\\'t use SSH agent because we have the private key right here\\n  }\\n\\n  # When creating the attachment\\n  provisioner \"remote-exec\" {\\n    script = \"${path.module}/provision-ebs.sh\"\\n  }\\n\\n  # When tearing down the attachment\\n  provisioner \"remote-exec\" {\\n    when   = \"destroy\"\\n    inline = [\"sudo umount -v ${aws_volume_attachment.this.device_name}\"]\\n  }\\n}\\n', metadata={'source': 'examples/aws/aws_ec2_ebs_docker_host/main.tf'}),\n",
       " Document(page_content='# Create an SSH key pair for accessing the EC2 instance\\nresource \"aws_key_pair\" \"this\" {\\n  public_key = \"${file(\"${var.ssh_public_key_path}\")}\"\\n}\\n\\n# Create our default security group to access the instance, over specific protocols\\nresource \"aws_security_group\" \"this\" {\\n  vpc_id = \"${data.aws_vpc.this.id}\"\\n  tags   = \"${merge(var.tags, map(\"Name\", \"${var.hostname}\"))}\"\\n}\\n\\n# Incoming SSH & outgoing ANY needs to be allowed for provisioning to work\\n\\nresource \"aws_security_group_rule\" \"outgoing_any\" {\\n  security_group_id = \"${aws_security_group.this.id}\"\\n  type              = \"egress\"\\n  from_port         = 0\\n  to_port           = 0\\n  protocol          = \"-1\"\\n  cidr_blocks       = [\"0.0.0.0/0\"]\\n}\\n\\nresource \"aws_security_group_rule\" \"incoming_ssh\" {\\n  security_group_id = \"${aws_security_group.this.id}\"\\n  type              = \"ingress\"\\n  from_port         = 22\\n  to_port           = 22\\n  protocol          = \"tcp\"\\n  cidr_blocks       = [\"0.0.0.0/0\"]\\n}\\n\\n# The rest of the security rules are opt-in\\n\\nresource \"aws_security_group_rule\" \"incoming_http\" {\\n  count             = \"${var.allow_incoming_http ? 1 : 0}\"\\n  security_group_id = \"${aws_security_group.this.id}\"\\n  type              = \"ingress\"\\n  from_port         = 80\\n  to_port           = 80\\n  protocol          = \"tcp\"\\n  cidr_blocks       = [\"0.0.0.0/0\"]\\n}\\n\\nresource \"aws_security_group_rule\" \"incoming_https\" {\\n  count             = \"${var.allow_incoming_https ? 1 : 0}\"\\n  security_group_id = \"${aws_security_group.this.id}\"\\n  type              = \"ingress\"\\n  from_port         = 443\\n  to_port           = 443\\n  protocol          = \"tcp\"\\n  cidr_blocks       = [\"0.0.0.0/0\"]\\n}\\n\\nresource \"aws_security_group_rule\" \"incoming_dns_tcp\" {\\n  count             = \"${var.allow_incoming_dns ? 1 : 0}\"\\n  security_group_id = \"${aws_security_group.this.id}\"\\n  type              = \"ingress\"\\n  from_port         = 53\\n  to_port           = 53\\n  protocol          = \"tcp\"\\n  cidr_blocks       = [\"0.0.0.0/0\"]\\n}\\n\\nresource \"aws_security_group_rule\" \"incoming_dns_udp\" {\\n  count             = \"${var.allow_incoming_dns ? 1 : 0}\"\\n  security_group_id = \"${aws_security_group.this.id}\"\\n  type              = \"ingress\"\\n  from_port         = 53\\n  to_port           = 53\\n  protocol          = \"udp\"\\n  cidr_blocks       = [\"0.0.0.0/0\"]\\n}\\n', metadata={'source': 'examples/aws/aws_ec2_ebs_docker_host/security.tf'})]"
      ]
     },
     "execution_count": 3,
     "metadata": {},
     "output_type": "execute_result"
    }
   ],
   "source": [
    "loader = DirectoryLoader(\"./examples\", glob=\"**/*.tf\", loader_cls=TextLoader, show_progress=True)\n",
    "raw_documents = loader.load()\n",
    "raw_documents = raw_documents[:10]\n",
    "raw_documents"
   ]
  },
  {
   "cell_type": "code",
   "execution_count": 4,
   "metadata": {},
   "outputs": [
    {
     "name": "stderr",
     "output_type": "stream",
     "text": [
      "/Users/malte/miniconda3/envs/infragen/lib/python3.11/site-packages/langchain_core/_api/deprecation.py:117: LangChainDeprecationWarning: The class `langchain_community.embeddings.openai.OpenAIEmbeddings` was deprecated in langchain-community 0.1.0 and will be removed in 0.2.0. An updated version of the class exists in the langchain-openai package and should be used instead. To use it run `pip install -U langchain-openai` and import as `from langchain_openai import OpenAIEmbeddings`.\n",
      "  warn_deprecated(\n"
     ]
    }
   ],
   "source": [
    "db = Chroma.from_documents(raw_documents, OpenAIEmbeddings(), persist_directory=\"./chroma_db\")"
   ]
  },
  {
   "cell_type": "code",
   "execution_count": 5,
   "metadata": {},
   "outputs": [
    {
     "data": {
      "text/plain": [
       "[Document(page_content='# Amazon RDS example\\n\\nmodule \"db\" {\\n  source = \"terraform-aws-modules/rds/aws\"\\n\\n  identifier = \"demodb\"\\n\\n  engine            = \"mysql\"\\n  engine_version    = \"5.7\"\\n  instance_class    = \"db.t3a.large\"\\n  allocated_storage = 5\\n\\n  db_name  = \"demodb\"\\n  username = \"user\"\\n  port     = \"3306\"\\n\\n  iam_database_authentication_enabled = true\\n\\n  vpc_security_group_ids = [\"sg-12345678\"]\\n\\n  maintenance_window = \"Mon:00:00-Mon:03:00\"\\n  backup_window      = \"03:00-06:00\"\\n\\n  # Enhanced Monitoring - see example for details on how to create the role\\n  # by yourself, in case you don\\'t want to create it automatically\\n  monitoring_interval    = \"30\"\\n  monitoring_role_name   = \"MyRDSMonitoringRole\"\\n  create_monitoring_role = true\\n\\n  tags = {\\n    Owner       = \"user\"\\n    Environment = \"dev\"\\n  }\\n\\n  # DB subnet group\\n  create_db_subnet_group = true\\n  subnet_ids             = [\"subnet-12345678\", \"subnet-87654321\"]\\n\\n  # DB parameter group\\n  family = \"mysql5.7\"\\n\\n  # DB option group\\n  major_engine_version = \"5.7\"\\n\\n  # Database Deletion Protection\\n  deletion_protection = true\\n\\n  parameters = [\\n    {\\n      name  = \"character_set_client\"\\n      value = \"utf8mb4\"\\n    },\\n    {\\n      name  = \"character_set_server\"\\n      value = \"utf8mb4\"\\n    }\\n  ]\\n\\n  options = [\\n    {\\n      option_name = \"MARIADB_AUDIT_PLUGIN\"\\n\\n      option_settings = [\\n        {\\n          name  = \"SERVER_AUDIT_EVENTS\"\\n          value = \"CONNECT\"\\n        },\\n        {\\n          name  = \"SERVER_AUDIT_FILE_ROTATIONS\"\\n          value = \"37\"\\n        },\\n      ]\\n    },\\n  ]\\n}', metadata={'source': 'examples/rds.tf'}),\n",
       " Document(page_content='# Amazon RDS example\\n\\nmodule \"db\" {\\n  source = \"terraform-aws-modules/rds/aws\"\\n\\n  identifier = \"demodb\"\\n\\n  engine            = \"mysql\"\\n  engine_version    = \"5.7\"\\n  instance_class    = \"db.t3a.large\"\\n  allocated_storage = 5\\n\\n  db_name  = \"demodb\"\\n  username = \"user\"\\n  port     = \"3306\"\\n\\n  iam_database_authentication_enabled = true\\n\\n  vpc_security_group_ids = [\"sg-12345678\"]\\n\\n  maintenance_window = \"Mon:00:00-Mon:03:00\"\\n  backup_window      = \"03:00-06:00\"\\n\\n  # Enhanced Monitoring - see example for details on how to create the role\\n  # by yourself, in case you don\\'t want to create it automatically\\n  monitoring_interval    = \"30\"\\n  monitoring_role_name   = \"MyRDSMonitoringRole\"\\n  create_monitoring_role = true\\n\\n  tags = {\\n    Owner       = \"user\"\\n    Environment = \"dev\"\\n  }\\n\\n  # DB subnet group\\n  create_db_subnet_group = true\\n  subnet_ids             = [\"subnet-12345678\", \"subnet-87654321\"]\\n\\n  # DB parameter group\\n  family = \"mysql5.7\"\\n\\n  # DB option group\\n  major_engine_version = \"5.7\"\\n\\n  # Database Deletion Protection\\n  deletion_protection = true\\n\\n  parameters = [\\n    {\\n      name  = \"character_set_client\"\\n      value = \"utf8mb4\"\\n    },\\n    {\\n      name  = \"character_set_server\"\\n      value = \"utf8mb4\"\\n    }\\n  ]\\n\\n  options = [\\n    {\\n      option_name = \"MARIADB_AUDIT_PLUGIN\"\\n\\n      option_settings = [\\n        {\\n          name  = \"SERVER_AUDIT_EVENTS\"\\n          value = \"CONNECT\"\\n        },\\n        {\\n          name  = \"SERVER_AUDIT_FILE_ROTATIONS\"\\n          value = \"37\"\\n        },\\n      ]\\n    },\\n  ]\\n}', metadata={'source': 'examples/rds.tf'}),\n",
       " Document(page_content='# Configure the AWS provider\\nprovider \"aws\" {\\n  region = \"eu-west-1\"\\n}\\n\\n# Create a DB instance\\nresource \"aws_db_instance\" \"example\" {\\n  engine              = \"mysql\"\\n  allocated_storage   = 10\\n  instance_class      = \"db.t2.micro\"\\n  name                = \"example_database_stage\"\\n  username            = \"admin\"\\n  password            = \"${var.db_password}\"\\n  skip_final_snapshot = true\\n}\\n', metadata={'source': 'examples/terraform-aws-examples/code/09-module-example/stage/data-stores/mysql/main.tf'}),\n",
       " Document(page_content='# Configure the AWS provider\\nprovider \"aws\" {\\n  region = \"eu-west-1\"\\n}\\n\\n# Create a DB instance\\nresource \"aws_db_instance\" \"example\" {\\n  engine              = \"mysql\"\\n  allocated_storage   = 10\\n  instance_class      = \"db.t2.micro\"\\n  name                = \"example_database_stage\"\\n  username            = \"admin\"\\n  password            = \"${var.db_password}\"\\n  skip_final_snapshot = true\\n}\\n', metadata={'source': 'examples/terraform-aws-examples/code/09-module-example/stage/data-stores/mysql/main.tf'})]"
      ]
     },
     "execution_count": 5,
     "metadata": {},
     "output_type": "execute_result"
    }
   ],
   "source": [
    "query = \"RDS\"\n",
    "docs = db.similarity_search(query)\n",
    "docs\n"
   ]
  },
  {
   "cell_type": "code",
   "execution_count": 7,
   "metadata": {},
   "outputs": [
    {
     "data": {
      "text/plain": [
       "[(Document(page_content='# Amazon RDS example\\n\\nmodule \"db\" {\\n  source = \"terraform-aws-modules/rds/aws\"\\n\\n  identifier = \"demodb\"\\n\\n  engine            = \"mysql\"\\n  engine_version    = \"5.7\"\\n  instance_class    = \"db.t3a.large\"\\n  allocated_storage = 5\\n\\n  db_name  = \"demodb\"\\n  username = \"user\"\\n  port     = \"3306\"\\n\\n  iam_database_authentication_enabled = true\\n\\n  vpc_security_group_ids = [\"sg-12345678\"]\\n\\n  maintenance_window = \"Mon:00:00-Mon:03:00\"\\n  backup_window      = \"03:00-06:00\"\\n\\n  # Enhanced Monitoring - see example for details on how to create the role\\n  # by yourself, in case you don\\'t want to create it automatically\\n  monitoring_interval    = \"30\"\\n  monitoring_role_name   = \"MyRDSMonitoringRole\"\\n  create_monitoring_role = true\\n\\n  tags = {\\n    Owner       = \"user\"\\n    Environment = \"dev\"\\n  }\\n\\n  # DB subnet group\\n  create_db_subnet_group = true\\n  subnet_ids             = [\"subnet-12345678\", \"subnet-87654321\"]\\n\\n  # DB parameter group\\n  family = \"mysql5.7\"\\n\\n  # DB option group\\n  major_engine_version = \"5.7\"\\n\\n  # Database Deletion Protection\\n  deletion_protection = true\\n\\n  parameters = [\\n    {\\n      name  = \"character_set_client\"\\n      value = \"utf8mb4\"\\n    },\\n    {\\n      name  = \"character_set_server\"\\n      value = \"utf8mb4\"\\n    }\\n  ]\\n\\n  options = [\\n    {\\n      option_name = \"MARIADB_AUDIT_PLUGIN\"\\n\\n      option_settings = [\\n        {\\n          name  = \"SERVER_AUDIT_EVENTS\"\\n          value = \"CONNECT\"\\n        },\\n        {\\n          name  = \"SERVER_AUDIT_FILE_ROTATIONS\"\\n          value = \"37\"\\n        },\\n      ]\\n    },\\n  ]\\n}', metadata={'source': 'examples/rds.tf'}),\n",
       "  0.4041109423022831)]"
      ]
     },
     "execution_count": 7,
     "metadata": {},
     "output_type": "execute_result"
    }
   ],
   "source": [
    "# get documents\n",
    "from langchain.vectorstores.chroma import Chroma\n",
    "from langchain.embeddings.openai import OpenAIEmbeddings\n",
    "\n",
    "db = Chroma(embedding_function=OpenAIEmbeddings(), persist_directory=\"./chroma_db\")\n",
    "\n"
   ]
  },
  {
   "cell_type": "code",
   "execution_count": 14,
   "metadata": {},
   "outputs": [
    {
     "data": {
      "text/plain": [
       "[Document(page_content='# Amazon RDS example\\n\\nmodule \"db\" {\\n  source = \"terraform-aws-modules/rds/aws\"\\n\\n  identifier = \"demodb\"\\n\\n  engine            = \"mysql\"\\n  engine_version    = \"5.7\"\\n  instance_class    = \"db.t3a.large\"\\n  allocated_storage = 5\\n\\n  db_name  = \"demodb\"\\n  username = \"user\"\\n  port     = \"3306\"\\n\\n  iam_database_authentication_enabled = true\\n\\n  vpc_security_group_ids = [\"sg-12345678\"]\\n\\n  maintenance_window = \"Mon:00:00-Mon:03:00\"\\n  backup_window      = \"03:00-06:00\"\\n\\n  # Enhanced Monitoring - see example for details on how to create the role\\n  # by yourself, in case you don\\'t want to create it automatically\\n  monitoring_interval    = \"30\"\\n  monitoring_role_name   = \"MyRDSMonitoringRole\"\\n  create_monitoring_role = true\\n\\n  tags = {\\n    Owner       = \"user\"\\n    Environment = \"dev\"\\n  }\\n\\n  # DB subnet group\\n  create_db_subnet_group = true\\n  subnet_ids             = [\"subnet-12345678\", \"subnet-87654321\"]\\n\\n  # DB parameter group\\n  family = \"mysql5.7\"\\n\\n  # DB option group\\n  major_engine_version = \"5.7\"\\n\\n  # Database Deletion Protection\\n  deletion_protection = true\\n\\n  parameters = [\\n    {\\n      name  = \"character_set_client\"\\n      value = \"utf8mb4\"\\n    },\\n    {\\n      name  = \"character_set_server\"\\n      value = \"utf8mb4\"\\n    }\\n  ]\\n\\n  options = [\\n    {\\n      option_name = \"MARIADB_AUDIT_PLUGIN\"\\n\\n      option_settings = [\\n        {\\n          name  = \"SERVER_AUDIT_EVENTS\"\\n          value = \"CONNECT\"\\n        },\\n        {\\n          name  = \"SERVER_AUDIT_FILE_ROTATIONS\"\\n          value = \"37\"\\n        },\\n      ]\\n    },\\n  ]\\n}', metadata={'source': 'examples/rds.tf'})]"
      ]
     },
     "execution_count": 14,
     "metadata": {},
     "output_type": "execute_result"
    }
   ],
   "source": [
    "db.similarity_search(\"RDS\", k=1)"
   ]
  }
 ],
 "metadata": {
  "kernelspec": {
   "display_name": "infragen",
   "language": "python",
   "name": "python3"
  },
  "language_info": {
   "codemirror_mode": {
    "name": "ipython",
    "version": 3
   },
   "file_extension": ".py",
   "mimetype": "text/x-python",
   "name": "python",
   "nbconvert_exporter": "python",
   "pygments_lexer": "ipython3",
   "version": "3.11.5"
  }
 },
 "nbformat": 4,
 "nbformat_minor": 2
}
