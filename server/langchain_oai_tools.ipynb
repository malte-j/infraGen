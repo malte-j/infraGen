{
 "cells": [
  {
   "cell_type": "code",
   "execution_count": 1,
   "metadata": {},
   "outputs": [],
   "source": [
    "from langchain_core.prompts.chat import ChatPromptTemplate, MessagesPlaceholder\n",
    "from langchain.agents import AgentExecutor, create_openai_tools_agent\n",
    "from langchain_openai import ChatOpenAI\n",
    "import submit_code_tool\n",
    "import query_tool\n",
    "from langchain_community.chat_message_histories import RedisChatMessageHistory\n",
    "from langchain.memory import ConversationBufferMemory"
   ]
  },
  {
   "cell_type": "code",
   "execution_count": 7,
   "metadata": {},
   "outputs": [],
   "source": [
    "session_id = \"session_xyzdd\"\n",
    "tools = [\n",
    "   query_tool.reference_code_search,\n",
    "   submit_code_tool.create_submission_tool(session_id)\n",
    "  ]\n",
    "\n",
    "message_history = RedisChatMessageHistory(\n",
    "    url=\"redis://localhost:6379/0\", session_id=session_id\n",
    ")\n",
    "\n",
    "memory = ConversationBufferMemory(\n",
    "    memory_key=\"chat_history\", chat_memory=message_history, return_messages=True, human_prefix=\"human\", ai_prefix=\"ai\", input_key=\"input\", output_key=\"output\"\n",
    ")\n",
    "\n",
    "prompt = ChatPromptTemplate.from_messages([\n",
    "  (\"system\", \"\"\"\n",
    "   You are an AWS solutions architect. Your job is to help customers build and deploy secure applications on AWS. \n",
    "   At first, you need to understand the customer's requirements. Make sure all the requirements are clear and precise before working on the terraform code.\n",
    "\n",
    "   When you have enough information, you can work on the terraform code. If the user has provided a terraform file, use this as a starting point and try to modify it to meet the requirements. Follow the architecture best practices (like not storing secrets in the code) by using the reference_code_search. Do not paste the code into the chat. Instead, use the create_submission_tool to submit the code to the user.\n",
    "\n",
    "   If anything is unclear, ask the user for more information.\n",
    "   \n",
    "   Tools:\n",
    "   - reference_code_search: Use this tool to get terraform best practice reference code from the AWS samples repository. If no results are found, stop using this function.\n",
    "   - create_submission_tool: Use this tool to submit the terraform file to the user. Use only ONCE per conversation.\n",
    "   \"\"\"),\n",
    "  (\"human\", \"My current terraform file:\\n{tf_file}\"),\n",
    "  MessagesPlaceholder(\"chat_history\", optional=True),\n",
    "  (\"human\", \"{input}\"),\n",
    "  \"{agent_scratchpad}\"\n",
    "])\n",
    "\n",
    "# llm = ChatOpenAI(model=\"gpt-4-1106-preview\", temperature=.5)\n",
    "llm = ChatOpenAI(model=\"gpt-3.5-turbo-1106\", temperature=.5)\n",
    "\n",
    "\n",
    "# Construct the OpenAI Tools agent\n",
    "agent = create_openai_tools_agent(llm, tools, prompt) # type: ignore # wrong type for query_tool import\n",
    "\n",
    "# Create an agent executor by passing in the agent and tools\n",
    "agent_executor = AgentExecutor(agent=agent, tools=tools, verbose=True, memory=memory, max_iterations=4, early_stopping_method=\"generate\", return_intermediate_steps=True) # type: ignore # wrong type for query_tool import"
   ]
  },
  {
   "cell_type": "code",
   "execution_count": 8,
   "metadata": {},
   "outputs": [
    {
     "data": {
      "text/plain": [
       "[]"
      ]
     },
     "execution_count": 8,
     "metadata": {},
     "output_type": "execute_result"
    }
   ],
   "source": [
    "import redis\n",
    "r = redis.Redis(host=\"localhost\", port=6379, decode_responses=True)\n",
    "messages = r.lrange(\"message_store:\" + session_id, 0, -1)\n",
    "messages"
   ]
  },
  {
   "cell_type": "code",
   "execution_count": 10,
   "metadata": {},
   "outputs": [
    {
     "name": "stdout",
     "output_type": "stream",
     "text": [
      "\n",
      "\n",
      "\u001b[1m> Entering new AgentExecutor chain...\u001b[0m\n",
      "\u001b[32;1m\u001b[1;3m\n",
      "Invoking: `reference_code_search` with `{'query': 'server'}`\n",
      "\n",
      "\n",
      "\u001b[0m\u001b[36;1m\u001b[1;3m# Configure the AWS provider\n",
      "provider \"aws\" {\n",
      "  region = \"eu-west-1\"\n",
      "}\n",
      "\n",
      "# Create a DB instance\n",
      "resource \"aws_db_instance\" \"example\" {\n",
      "  engine              = \"mysql\"\n",
      "  allocated_storage   = 10\n",
      "  instance_class      = \"db.t2.micro\"\n",
      "  name                = \"example_database_stage\"\n",
      "  username            = \"admin\"\n",
      "  password            = \"${var.db_password}\"\n",
      "  skip_final_snapshot = true\n",
      "}\n",
      "\u001b[0m\u001b[32;1m\u001b[1;3m\n",
      "Invoking: `reference_code_search` with `{'query': 'server'}`\n",
      "\n",
      "\n",
      "\u001b[0m\u001b[36;1m\u001b[1;3m# Configure the AWS provider\n",
      "provider \"aws\" {\n",
      "  region = \"eu-west-1\"\n",
      "}\n",
      "\n",
      "# Create a DB instance\n",
      "resource \"aws_db_instance\" \"example\" {\n",
      "  engine              = \"mysql\"\n",
      "  allocated_storage   = 10\n",
      "  instance_class      = \"db.t2.micro\"\n",
      "  name                = \"example_database_stage\"\n",
      "  username            = \"admin\"\n",
      "  password            = \"${var.db_password}\"\n",
      "  skip_final_snapshot = true\n",
      "}\n",
      "\u001b[0m\u001b[32;1m\u001b[1;3m\n",
      "Invoking: `reference_code_search` with `{'query': 'server'}`\n",
      "\n",
      "\n",
      "\u001b[0m\u001b[36;1m\u001b[1;3m# Configure the AWS provider\n",
      "provider \"aws\" {\n",
      "  region = \"eu-west-1\"\n",
      "}\n",
      "\n",
      "# Create a DB instance\n",
      "resource \"aws_db_instance\" \"example\" {\n",
      "  engine              = \"mysql\"\n",
      "  allocated_storage   = 10\n",
      "  instance_class      = \"db.t2.micro\"\n",
      "  name                = \"example_database_stage\"\n",
      "  username            = \"admin\"\n",
      "  password            = \"${var.db_password}\"\n",
      "  skip_final_snapshot = true\n",
      "}\n",
      "\u001b[0m\u001b[32;1m\u001b[1;3m\n",
      "Invoking: `reference_code_search` with `{'query': 'server'}`\n",
      "\n",
      "\n",
      "\u001b[0m\u001b[36;1m\u001b[1;3m# Configure the AWS provider\n",
      "provider \"aws\" {\n",
      "  region = \"eu-west-1\"\n",
      "}\n",
      "\n",
      "# Create a DB instance\n",
      "resource \"aws_db_instance\" \"example\" {\n",
      "  engine              = \"mysql\"\n",
      "  allocated_storage   = 10\n",
      "  instance_class      = \"db.t2.micro\"\n",
      "  name                = \"example_database_stage\"\n",
      "  username            = \"admin\"\n",
      "  password            = \"${var.db_password}\"\n",
      "  skip_final_snapshot = true\n",
      "}\n",
      "\u001b[0m"
     ]
    },
    {
     "ename": "ValueError",
     "evalue": "got AgentAction with no functions provided: [OpenAIToolAgentAction(tool='reference_code_search', tool_input={'query': 'server'}, log=\"\\nInvoking: `reference_code_search` with `{'query': 'server'}`\\n\\n\\n\", message_log=[AIMessageChunk(content='', additional_kwargs={'tool_calls': [{'index': 0, 'id': 'call_OCAjsoaaR3YTZMM4bgEWjKwb', 'function': {'arguments': '{\"query\":\"server\"}', 'name': 'reference_code_search'}, 'type': 'function'}]})], tool_call_id='call_OCAjsoaaR3YTZMM4bgEWjKwb')]",
     "output_type": "error",
     "traceback": [
      "\u001b[0;31m---------------------------------------------------------------------------\u001b[0m",
      "\u001b[0;31mValueError\u001b[0m                                Traceback (most recent call last)",
      "Cell \u001b[0;32mIn[10], line 1\u001b[0m\n\u001b[0;32m----> 1\u001b[0m \u001b[43magent_executor\u001b[49m\u001b[38;5;241;43m.\u001b[39;49m\u001b[43minvoke\u001b[49m\u001b[43m(\u001b[49m\u001b[43m{\u001b[49m\n\u001b[1;32m      2\u001b[0m \u001b[43m  \u001b[49m\u001b[38;5;124;43m\"\u001b[39;49m\u001b[38;5;124;43minput\u001b[39;49m\u001b[38;5;124;43m\"\u001b[39;49m\u001b[43m:\u001b[49m\u001b[43m \u001b[49m\u001b[38;5;124;43m\"\u001b[39;49m\u001b[38;5;124;43mI need a server and a database.\u001b[39;49m\u001b[38;5;124;43m\"\u001b[39;49m\u001b[43m,\u001b[49m\n\u001b[1;32m      3\u001b[0m \u001b[43m  \u001b[49m\u001b[38;5;124;43m\"\u001b[39;49m\u001b[38;5;124;43mtf_file\u001b[39;49m\u001b[38;5;124;43m\"\u001b[39;49m\u001b[43m:\u001b[49m\u001b[43m \u001b[49m\u001b[38;5;124;43m\"\"\"\u001b[39;49m\u001b[38;5;124;43mprovider \u001b[39;49m\u001b[38;5;124;43m\"\u001b[39;49m\u001b[38;5;124;43maws\u001b[39;49m\u001b[38;5;124;43m\"\u001b[39;49m\u001b[38;5;124;43m \u001b[39;49m\u001b[38;5;124;43m{\u001b[39;49m\n\u001b[1;32m      4\u001b[0m \u001b[38;5;124;43m      region = \u001b[39;49m\u001b[38;5;124;43m\"\u001b[39;49m\u001b[38;5;124;43mus-east-1\u001b[39;49m\u001b[38;5;124;43m\"\u001b[39;49m\n\u001b[1;32m      5\u001b[0m \u001b[38;5;124;43m    }\u001b[39;49m\u001b[38;5;124;43m\"\"\"\u001b[39;49m\u001b[43m,\u001b[49m\n\u001b[1;32m      6\u001b[0m \u001b[43m}\u001b[49m\u001b[43m)\u001b[49m\n",
      "File \u001b[0;32m~/miniconda3/envs/infragen/lib/python3.11/site-packages/langchain/chains/base.py:162\u001b[0m, in \u001b[0;36mChain.invoke\u001b[0;34m(self, input, config, **kwargs)\u001b[0m\n\u001b[1;32m    160\u001b[0m \u001b[38;5;28;01mexcept\u001b[39;00m \u001b[38;5;167;01mBaseException\u001b[39;00m \u001b[38;5;28;01mas\u001b[39;00m e:\n\u001b[1;32m    161\u001b[0m     run_manager\u001b[38;5;241m.\u001b[39mon_chain_error(e)\n\u001b[0;32m--> 162\u001b[0m     \u001b[38;5;28;01mraise\u001b[39;00m e\n\u001b[1;32m    163\u001b[0m run_manager\u001b[38;5;241m.\u001b[39mon_chain_end(outputs)\n\u001b[1;32m    164\u001b[0m final_outputs: Dict[\u001b[38;5;28mstr\u001b[39m, Any] \u001b[38;5;241m=\u001b[39m \u001b[38;5;28mself\u001b[39m\u001b[38;5;241m.\u001b[39mprep_outputs(\n\u001b[1;32m    165\u001b[0m     inputs, outputs, return_only_outputs\n\u001b[1;32m    166\u001b[0m )\n",
      "File \u001b[0;32m~/miniconda3/envs/infragen/lib/python3.11/site-packages/langchain/chains/base.py:156\u001b[0m, in \u001b[0;36mChain.invoke\u001b[0;34m(self, input, config, **kwargs)\u001b[0m\n\u001b[1;32m    149\u001b[0m run_manager \u001b[38;5;241m=\u001b[39m callback_manager\u001b[38;5;241m.\u001b[39mon_chain_start(\n\u001b[1;32m    150\u001b[0m     dumpd(\u001b[38;5;28mself\u001b[39m),\n\u001b[1;32m    151\u001b[0m     inputs,\n\u001b[1;32m    152\u001b[0m     name\u001b[38;5;241m=\u001b[39mrun_name,\n\u001b[1;32m    153\u001b[0m )\n\u001b[1;32m    154\u001b[0m \u001b[38;5;28;01mtry\u001b[39;00m:\n\u001b[1;32m    155\u001b[0m     outputs \u001b[38;5;241m=\u001b[39m (\n\u001b[0;32m--> 156\u001b[0m         \u001b[38;5;28;43mself\u001b[39;49m\u001b[38;5;241;43m.\u001b[39;49m\u001b[43m_call\u001b[49m\u001b[43m(\u001b[49m\u001b[43minputs\u001b[49m\u001b[43m,\u001b[49m\u001b[43m \u001b[49m\u001b[43mrun_manager\u001b[49m\u001b[38;5;241;43m=\u001b[39;49m\u001b[43mrun_manager\u001b[49m\u001b[43m)\u001b[49m\n\u001b[1;32m    157\u001b[0m         \u001b[38;5;28;01mif\u001b[39;00m new_arg_supported\n\u001b[1;32m    158\u001b[0m         \u001b[38;5;28;01melse\u001b[39;00m \u001b[38;5;28mself\u001b[39m\u001b[38;5;241m.\u001b[39m_call(inputs)\n\u001b[1;32m    159\u001b[0m     )\n\u001b[1;32m    160\u001b[0m \u001b[38;5;28;01mexcept\u001b[39;00m \u001b[38;5;167;01mBaseException\u001b[39;00m \u001b[38;5;28;01mas\u001b[39;00m e:\n\u001b[1;32m    161\u001b[0m     run_manager\u001b[38;5;241m.\u001b[39mon_chain_error(e)\n",
      "File \u001b[0;32m~/miniconda3/envs/infragen/lib/python3.11/site-packages/langchain/agents/agent.py:1409\u001b[0m, in \u001b[0;36mAgentExecutor._call\u001b[0;34m(self, inputs, run_manager)\u001b[0m\n\u001b[1;32m   1407\u001b[0m     iterations \u001b[38;5;241m+\u001b[39m\u001b[38;5;241m=\u001b[39m \u001b[38;5;241m1\u001b[39m\n\u001b[1;32m   1408\u001b[0m     time_elapsed \u001b[38;5;241m=\u001b[39m time\u001b[38;5;241m.\u001b[39mtime() \u001b[38;5;241m-\u001b[39m start_time\n\u001b[0;32m-> 1409\u001b[0m output \u001b[38;5;241m=\u001b[39m \u001b[38;5;28;43mself\u001b[39;49m\u001b[38;5;241;43m.\u001b[39;49m\u001b[43magent\u001b[49m\u001b[38;5;241;43m.\u001b[39;49m\u001b[43mreturn_stopped_response\u001b[49m\u001b[43m(\u001b[49m\n\u001b[1;32m   1410\u001b[0m \u001b[43m    \u001b[49m\u001b[38;5;28;43mself\u001b[39;49m\u001b[38;5;241;43m.\u001b[39;49m\u001b[43mearly_stopping_method\u001b[49m\u001b[43m,\u001b[49m\u001b[43m \u001b[49m\u001b[43mintermediate_steps\u001b[49m\u001b[43m,\u001b[49m\u001b[43m \u001b[49m\u001b[38;5;241;43m*\u001b[39;49m\u001b[38;5;241;43m*\u001b[39;49m\u001b[43minputs\u001b[49m\n\u001b[1;32m   1411\u001b[0m \u001b[43m\u001b[49m\u001b[43m)\u001b[49m\n\u001b[1;32m   1412\u001b[0m \u001b[38;5;28;01mreturn\u001b[39;00m \u001b[38;5;28mself\u001b[39m\u001b[38;5;241m.\u001b[39m_return(output, intermediate_steps, run_manager\u001b[38;5;241m=\u001b[39mrun_manager)\n",
      "File \u001b[0;32m~/miniconda3/envs/infragen/lib/python3.11/site-packages/langchain/agents/agent.py:272\u001b[0m, in \u001b[0;36mBaseMultiActionAgent.return_stopped_response\u001b[0;34m(self, early_stopping_method, intermediate_steps, **kwargs)\u001b[0m\n\u001b[1;32m    270\u001b[0m         \u001b[38;5;28;01mreturn\u001b[39;00m agent_decision\n\u001b[1;32m    271\u001b[0m     \u001b[38;5;28;01melse\u001b[39;00m:\n\u001b[0;32m--> 272\u001b[0m         \u001b[38;5;28;01mraise\u001b[39;00m \u001b[38;5;167;01mValueError\u001b[39;00m(\n\u001b[1;32m    273\u001b[0m             \u001b[38;5;124mf\u001b[39m\u001b[38;5;124m\"\u001b[39m\u001b[38;5;124mgot AgentAction with no functions provided: \u001b[39m\u001b[38;5;132;01m{\u001b[39;00magent_decision\u001b[38;5;132;01m}\u001b[39;00m\u001b[38;5;124m\"\u001b[39m\n\u001b[1;32m    274\u001b[0m         )\n\u001b[1;32m    275\u001b[0m \u001b[38;5;28;01melse\u001b[39;00m:\n\u001b[1;32m    276\u001b[0m     \u001b[38;5;28;01mraise\u001b[39;00m \u001b[38;5;167;01mValueError\u001b[39;00m(\n\u001b[1;32m    277\u001b[0m         \u001b[38;5;124mf\u001b[39m\u001b[38;5;124m\"\u001b[39m\u001b[38;5;124mGot unsupported early_stopping_method `\u001b[39m\u001b[38;5;132;01m{\u001b[39;00mearly_stopping_method\u001b[38;5;132;01m}\u001b[39;00m\u001b[38;5;124m`\u001b[39m\u001b[38;5;124m\"\u001b[39m\n\u001b[1;32m    278\u001b[0m     )\n",
      "\u001b[0;31mValueError\u001b[0m: got AgentAction with no functions provided: [OpenAIToolAgentAction(tool='reference_code_search', tool_input={'query': 'server'}, log=\"\\nInvoking: `reference_code_search` with `{'query': 'server'}`\\n\\n\\n\", message_log=[AIMessageChunk(content='', additional_kwargs={'tool_calls': [{'index': 0, 'id': 'call_OCAjsoaaR3YTZMM4bgEWjKwb', 'function': {'arguments': '{\"query\":\"server\"}', 'name': 'reference_code_search'}, 'type': 'function'}]})], tool_call_id='call_OCAjsoaaR3YTZMM4bgEWjKwb')]"
     ]
    }
   ],
   "source": [
    "agent_executor.invoke({\n",
    "  \"input\": \"I need a server and a database.\",\n",
    "  \"tf_file\": \"\"\"provider \"aws\" {\n",
    "      region = \"us-east-1\"\n",
    "    }\"\"\",\n",
    "})"
   ]
  },
  {
   "cell_type": "code",
   "execution_count": null,
   "metadata": {},
   "outputs": [],
   "source": [
    "agent_executor.invoke({\n",
    "  \"input\": \"I need a webserver.\",\n",
    "  \"tf_file\": \"\",\n",
    "})"
   ]
  }
 ],
 "metadata": {
  "kernelspec": {
   "display_name": "infragen",
   "language": "python",
   "name": "python3"
  },
  "language_info": {
   "codemirror_mode": {
    "name": "ipython",
    "version": 3
   },
   "file_extension": ".py",
   "mimetype": "text/x-python",
   "name": "python",
   "nbconvert_exporter": "python",
   "pygments_lexer": "ipython3",
   "version": "3.11.5"
  }
 },
 "nbformat": 4,
 "nbformat_minor": 2
}
